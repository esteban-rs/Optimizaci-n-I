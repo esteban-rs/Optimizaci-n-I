{
  "nbformat": 4,
  "nbformat_minor": 0,
  "metadata": {
    "colab": {
      "name": "T07_MC_Esteban_Reyes.ipynb",
      "provenance": [],
      "collapsed_sections": [
        "uu1KKsHri5Qc",
        "AFHdpKYn3SNt",
        "SdYYsmATi9AU",
        "Q2zlRhcW3jd8",
        "Hq0VN9h63pht"
      ]
    },
    "kernelspec": {
      "name": "python3",
      "display_name": "Python 3"
    }
  },
  "cells": [
    {
      "cell_type": "markdown",
      "metadata": {
        "id": "AIRONqPsiD8Z"
      },
      "source": [
        "# Tarea 7\n",
        "\n",
        "## Optimización I\n",
        "\n",
        "### Esteban Reyes Saldaña"
      ]
    },
    {
      "cell_type": "code",
      "metadata": {
        "id": "3jv-uPLHaD3k",
        "colab": {
          "base_uri": "https://localhost:8080/"
        },
        "outputId": "1f02d754-945a-46dd-80e2-7e39c33f2b4c"
      },
      "source": [
        "from google.colab import drive\n",
        "drive.mount('/content/drive')"
      ],
      "execution_count": null,
      "outputs": [
        {
          "output_type": "stream",
          "text": [
            "Drive already mounted at /content/drive; to attempt to forcibly remount, call drive.mount(\"/content/drive\", force_remount=True).\n"
          ],
          "name": "stdout"
        }
      ]
    },
    {
      "cell_type": "code",
      "metadata": {
        "id": "YHhcLMVlaXSw"
      },
      "source": [
        "# liberías\n",
        "!cp drive/MyDrive/CIMAT/Segundo_Semestre/Optimización/T07/functions.py ."
      ],
      "execution_count": null,
      "outputs": []
    },
    {
      "cell_type": "code",
      "metadata": {
        "id": "Mc-CyQ_gB7td"
      },
      "source": [
        "import numpy as np\n",
        "import time\n",
        "import functions as func\n",
        "\n",
        "Rosembrock      = func.Rosembrock\n",
        "Rosembrock_Grad = func.Rosembrock_Grad\n",
        "Rosembrock_Hess = func.Rosembrock_Hess\n",
        "\n",
        "Wood            = func.Wood\n",
        "Wood_Grad       = func.Wood_Grad\n",
        "Wood_Hess       = func.Wood_Hess\n",
        "\n",
        "Branin          = func.Branin\n",
        "Branin_Grad     = func.Branin_Grad\n",
        "Branin_Hess     = func.Branin_Hess\n",
        "\n",
        "newton_modified      = func.newton_modified\n",
        "get_newton_direction = func.get_newton_direction\n",
        "get_graf             = func.get_graf"
      ],
      "execution_count": null,
      "outputs": []
    },
    {
      "cell_type": "markdown",
      "metadata": {
        "id": "WCgWhHywkzGy"
      },
      "source": [
        "1. Implementa el método de Region de Confianza basado en Dogleg.\n"
      ]
    },
    {
      "cell_type": "code",
      "metadata": {
        "id": "XxhUj5mnbFgn"
      },
      "source": [
        "def dogleg_step (g_k, b_k, delta_k) :\n",
        "  '''\n",
        "  Calcula el tamaño de paso de acuerdo a dogleg\n",
        "  Parámetros \n",
        "  -----------\n",
        "    g_k     : Gradiente de la función en la iteración k\n",
        "    b_k     : Hessiano de la función en la itetación k\n",
        "    delta_k : radio de tolerancia para región de confianza\n",
        "  Regresa\n",
        "  -----------\n",
        "    p_k     : paso calculado por dogleg\n",
        "  '''\n",
        "  # Modelo cuadrático a lo largo del gradiente\n",
        "  p_ku = - g_k.dot(g_k) / (g_k.dot(b_k).dot(g_k)) * g_k\n",
        "  # Modelo cuadrático si b_k es positiva definida\n",
        "  p_kb = - np.linalg.inv(b_k).dot(g_k)\n",
        "  # p_kb está en el interior de la región de confianza\n",
        "  if np.linalg.norm(p_kb) <= delta_k :\n",
        "    p_k = p_kb\n",
        "  # Intersección con la región de confianza con la trajectoria Dogleg\n",
        "  elif np.linalg.norm(p_ku) >= delta_k :\n",
        "    p_k =  delta_k * (p_ku / np.linalg.norm(p_ku))\n",
        "  else :\n",
        "    diff  = p_kb - p_ku\n",
        "    a     = diff.dot(diff)\n",
        "    b     = 2.0 * p_kb.dot(diff)\n",
        "    c     = p_ku.dot(p_ku) - delta_k **2\n",
        "    tau_k = 1.0 + (-b + np.sqrt(b**2 - 4.0 * a * c)) / (2.0 * a)\n",
        "    # 1 <= tau <= 1\n",
        "    if tau_k <= 1.0 :\n",
        "      p_k = tau_k * p_ku\n",
        "    # 1 < tau <=2\n",
        "    else :\n",
        "      p_k = p_ku + (tau_k - 1.0) * diff\n",
        "  return p_k"
      ],
      "execution_count": null,
      "outputs": []
    },
    {
      "cell_type": "code",
      "metadata": {
        "id": "-qUBBzznORPn"
      },
      "source": [
        "def trust_region( params = [], step = 'dogleg'):\n",
        "  '''\n",
        "  Calcula un mínimo dado una región de confianza\n",
        "  Parámetros \n",
        "  -----------\n",
        "  params : Diccionario de parámetros\n",
        "    x_0      : punto inicial\n",
        "    f        : función a evaluar\n",
        "    f_grad   : regresa gradiente de f\n",
        "    f_hess   : regresa hessiano de f\n",
        "    max_iter : número maximo de iteraciones\n",
        "\n",
        "    Trust-Region : Subparámetros del algoritmo región de confianza\n",
        "      delta_k    : tamaño del radio de la región de confianza\n",
        "      delta_max  : máxima tolerancia permitida\n",
        "      eta        : tolerancia para métrica ro\n",
        "      eta_min    : valor mínimo permitido [1/4, 3/4]\n",
        "      eta1_hat   : parámetro de cambio eta_1 *delta_k\n",
        "      eta_max    : valor máximo permitido [1/4, 3/4]\n",
        "      eta2_hat   : parámetro de cambio  min(eta_2 * delta_k, delta_max)\n",
        "  step   : método con el que se calcula el paso p_k\n",
        "  \n",
        "  Regresa \n",
        "  -----------\n",
        "  f_hist : historial de cambios de f(x_k)\n",
        "  g_hist : historial de norma del gradiente \\nabla f(x_k)\n",
        "  x_hist : historial de cambios de valores x_k\n",
        "  '''\n",
        "  # Cargo parámetros\n",
        "  x_k         = params['x_0']\n",
        "  f           = params['f']\n",
        "  f_grad      = params['f_grad']\n",
        "  f_hess      = params['f_hess']\n",
        "  max_iter    = params['max_iter']\n",
        "  tau_x       = params['tau_x']\n",
        "  tau_f       = params['tau_f']\n",
        "  tau_f_grad  = params['tau_grad']\n",
        "  # Región de confianza\n",
        "  delta_k     = params['Trust-Region']['delta_k']\n",
        "  delta_max   = params['Trust-Region']['delta_max']\n",
        "  eta         = params['Trust-Region']['eta']\n",
        "  eta_min     = params['Trust-Region']['eta_min'] \n",
        "  eta_max     = params['Trust-Region']['eta_max']\n",
        "  eta1_hat    = params['Trust-Region']['eta1_hat']\n",
        "  eta2_hat      = params['Trust-Region']['eta2_hat']\n",
        "\n",
        "  # Subpámetros para la función\n",
        "  if f.__name__ == 'Branin' :\n",
        "    sub_params = {\n",
        "                  'a' : params['a'],\n",
        "                  'b' : params['b'],\n",
        "                  'c' : params['c'],\n",
        "                  'r' : params['r'],\n",
        "                  's' : params['s'],\n",
        "                  't' : params['t']\n",
        "                 }\n",
        "  else :\n",
        "    sub_params = {}\n",
        "  # historial de valores\n",
        "  f_hist = []\n",
        "  g_hist = []\n",
        "  x_hist = []\n",
        "  # Valores de primera iteración\n",
        "  f_k      = f(x_k, params = sub_params)\n",
        "  g_k      = f_grad(x_k, params = sub_params)\n",
        "  b_k      = f_hess(x_k, params = sub_params)\n",
        "  # Primeros valores de historial\n",
        "  f_hist.append(f_k)\n",
        "  g_hist.append(np.linalg.norm(g_k))\n",
        "  x_hist.append(x_k)\n",
        "\n",
        "  # Comienza Método de Región de Confianza\n",
        "  k = 0 \n",
        "  while True:\n",
        "    # Calculo paso de acuerdo a método seleccionado\n",
        "    if step == 'dogleg' :\n",
        "      p_k = dogleg_step(g_k, b_k, delta_k)\n",
        "    elif step == 'cauchy' :\n",
        "      p_k = cauchy_step(g_k, b_k, delta_k)\n",
        "    elif step == 'newton-cauchy' :\n",
        "      # Obtengo dirección de Newton\n",
        "      p_k = get_newton_direction(g_k, b_k)\n",
        "      # Tomo paso de Cauchy si paso de Newton está fuera de la region\n",
        "      if np.linalg.norm(p_k) >= delta_k :\n",
        "        p_k = cauchy_step(g_k, b_k, delta_k)\n",
        "    else :\n",
        "      print('paso no implementado.')\n",
        "      return \n",
        "    # Calculo métrica ro para evaluar modelo\n",
        "    m_kp = f_k + g_k.dot(p_k) + 0.5 * p_k.dot(b_k).dot(p_k)\n",
        "    ro_k = (f_k - f(x_k + p_k, params = sub_params)) / (f_k - m_kp)\n",
        "    # Actualizo radio de la región de confianza\n",
        "    if ro_k < eta_min :\n",
        "      delta_k = eta1_hat * delta_k\n",
        "    elif  ro_k > eta_max and np.linalg.norm(p_k) == delta_k :\n",
        "        delta_k = min(eta2_hat * delta_k, delta_max)\n",
        "    # Actualizo valor del punto\n",
        "    if ro_k > eta :\n",
        "      x_k    = x_k + p_k\n",
        "    # Calculo valores de f, gradiente y Hessiano\n",
        "    f_k      = f(x_k, params = sub_params)\n",
        "    g_k      = f_grad(x_k, params = sub_params)\n",
        "    b_k      = f_hess(x_k, params = sub_params)\n",
        "    # Guardo Parámetros\n",
        "    x_hist.append(x_k)\n",
        "    f_hist.append(f_k)\n",
        "    g_hist.append(np.linalg.norm(g_k))\n",
        "    # Actualizo contador\n",
        "    k   = k + 1\n",
        "    # Criterios de paro\n",
        "    if k > max_iter :\n",
        "      break\n",
        "    if np.linalg.norm(g_k) < tau_f_grad :\n",
        "      break  \n",
        "    if np.linalg.norm(x_hist[-1] - x_hist[-2]) / max(np.linalg.norm(x_hist[-2]), 1.0) < tau_x :\n",
        "      break\n",
        "    if np.abs(f_hist[-1] - f_hist[-2]) / max(np.abs(f_hist[-2]), 1.0) < tau_f :\n",
        "      break \n",
        "  return np.array(f_hist), np.array(g_hist), x_k"
      ],
      "execution_count": null,
      "outputs": []
    },
    {
      "cell_type": "markdown",
      "metadata": {
        "id": "H9yH9NvQNSDk"
      },
      "source": [
        "2. Implementa el metodo básico de \"Region de Confianza\" alterna entre el paso\n",
        "de Newton y el Paso de Cauchy (le llamaremos Newton-Cauchy Alterno). Es decir, se toma el paso de Newton si esta en la región de confianza en otro caso se toma el Paso de Cauchy."
      ]
    },
    {
      "cell_type": "code",
      "metadata": {
        "id": "h4lpcAygf1Cn"
      },
      "source": [
        "def cauchy_step (g_k, b_k, delta_k) :\n",
        "  # Resuelve problema lineal\n",
        "  p_ks = - delta_k * g_k / np.linalg.norm(g_k)\n",
        " \n",
        "  prod = g_k.dot(b_k).dot(g_k)\n",
        "  if prod <= 0 :\n",
        "    # Tomo el mayor valor posible\n",
        "    tau_k = 1.0\n",
        "  else :\n",
        "    # Tomo tau en el interior\n",
        "    tau_k = min(1.0, np.linalg.norm(g_k) ** 3 / (delta_k * prod))\n",
        "  return tau_k * p_ks"
      ],
      "execution_count": null,
      "outputs": []
    },
    {
      "cell_type": "markdown",
      "metadata": {
        "id": "RFQ4H_EXUSjC"
      },
      "source": [
        "3. Realice 30 corridas, de los algoritmos anteriores t del método de Newton Modificado aplicado a las funciones que aparecen abajo. Reporte los promedios\n",
        "de tiempo de ejecución y número de iteraciones, segun aparece en las tablas\n",
        "1 y 2. Seleccione los puntos iniciales de modo que cada entrada se obtenga\n",
        "de la siguiente forma\n",
        "\n",
        "$$ x_i^0 = x_i^* + \\eta $$\n",
        "\n",
        "donde $ x_i^* $ es la $i$-ésima entrada del óptimo $ x^* $ proporcionado más abajo para cada función y $ \\eta \\sim \\mathcal{U}(-2,2). $"
      ]
    },
    {
      "cell_type": "markdown",
      "metadata": {
        "id": "uu1KKsHri5Qc"
      },
      "source": [
        "# Función de Rosembrock"
      ]
    },
    {
      "cell_type": "markdown",
      "metadata": {
        "id": "AFHdpKYn3SNt"
      },
      "source": [
        "## Corrida de prueba"
      ]
    },
    {
      "cell_type": "code",
      "metadata": {
        "colab": {
          "base_uri": "https://localhost:8080/",
          "height": 573
        },
        "id": "iIM_TiNSn__O",
        "outputId": "3886e256-b470-462d-ec76-904c0e7aea69"
      },
      "source": [
        "n = 100\n",
        "x_0 = [1.0 + np.random.uniform(-2,2) for i in range(n)]\n",
        "x_0 = np.array(x_0)\n",
        "\n",
        "params = {\n",
        "          'x_0'      : x_0,\n",
        "          'f'        : Rosembrock,\n",
        "          'f_grad'   : Rosembrock_Grad,\n",
        "          'f_hess'   : Rosembrock_Hess,\n",
        "          'max_iter' : 1000,\n",
        "          'tau_x'    : 1e-12,\n",
        "          'tau_f'    : 1e-12,\n",
        "          'tau_grad' : 1e-12,\n",
        "          'Trust-Region' : {\n",
        "                            'delta_k'   : 0.1,\n",
        "                            'delta_max' : 0.2,\n",
        "                            'eta'       : 0.1,\n",
        "                            'eta_min'   : 0.25,\n",
        "                            'eta_max'   : 0.75,\n",
        "                            'eta1_hat'  : 0.25,\n",
        "                            'eta2_hat'  : 2.0\n",
        "                           }\n",
        "          }\n",
        "\n",
        "f_hist, g_hist, x = trust_region(params, step = 'dogleg')\n",
        "get_graf(f_hist, g_hist)\n"
      ],
      "execution_count": null,
      "outputs": [
        {
          "output_type": "display_data",
          "data": {
            "image/png": "[encoded data removed]",
            "text/plain": [
              "<Figure size 432x288 with 1 Axes>"
            ]
          },
          "metadata": {
            "tags": [],
            "needs_background": "light"
          }
        },
        {
          "output_type": "display_data",
          "data": {
            "image/png": "[encoded data removed]",
            "text/plain": [
              "<Figure size 432x288 with 1 Axes>"
            ]
          },
          "metadata": {
            "tags": [],
            "needs_background": "light"
          }
        }
      ]
    },
    {
      "cell_type": "code",
      "metadata": {
        "colab": {
          "base_uri": "https://localhost:8080/",
          "height": 573
        },
        "id": "YDU9n9-fzib7",
        "outputId": "12c1c692-6a2b-454d-d76e-b74cd6e81e9e"
      },
      "source": [
        "n = 100\n",
        "x_0 = [1.0 + np.random.uniform(-2,2) for i in range(n)]\n",
        "x_0 = np.array(x_0)\n",
        "\n",
        "params = {\n",
        "          'x_0'      : x_0,\n",
        "          'f'        : Rosembrock,\n",
        "          'f_grad'   : Rosembrock_Grad,\n",
        "          'f_hess'   : Rosembrock_Hess,\n",
        "          'max_iter' : 1000,\n",
        "          'tau_x'    : 1e-12,\n",
        "          'tau_f'    : 1e-12,\n",
        "          'tau_grad' : 1e-12,\n",
        "          'Trust-Region' : {\n",
        "                            'delta_k'   : 0.1,\n",
        "                            'delta_max' : 0.2,\n",
        "                            'eta'       : 0.1,\n",
        "                            'eta_min'   : 0.25,\n",
        "                            'eta_max'   : 0.75,\n",
        "                            'eta1_hat'  : 0.25,\n",
        "                            'eta2_hat'  : 2.0\n",
        "                           }\n",
        "          }\n",
        "\n",
        "f_hist, g_hist, x = trust_region(params, step = 'newton-cauchy')\n",
        "get_graf(f_hist, g_hist)"
      ],
      "execution_count": null,
      "outputs": [
        {
          "output_type": "display_data",
          "data": {
            "image/png": "[encoded data removed]",
            "text/plain": [
              "<Figure size 432x288 with 1 Axes>"
            ]
          },
          "metadata": {
            "tags": [],
            "needs_background": "light"
          }
        },
        {
          "output_type": "display_data",
          "data": {
            "image/png": "[encoded data removed]",
            "text/plain": [
              "<Figure size 432x288 with 1 Axes>"
            ]
          },
          "metadata": {
            "tags": [],
            "needs_background": "light"
          }
        }
      ]
    },
    {
      "cell_type": "markdown",
      "metadata": {
        "id": "pC6x8N3S3bka"
      },
      "source": [
        "## 30 corridas"
      ]
    },
    {
      "cell_type": "code",
      "metadata": {
        "id": "-bmF4G-AUQWH",
        "colab": {
          "base_uri": "https://localhost:8080/"
        },
        "outputId": "09fda730-ed91-4e5d-e690-ad666cde96d1"
      },
      "source": [
        "iterations = 30\n",
        "n = 100\n",
        "\n",
        "time_dogleg                = []\n",
        "iterations_dogleg          = []\n",
        "\n",
        "time_newton_cauchy         = []\n",
        "iterations_newton_cauchy   = []\n",
        "\n",
        "time_newton_modified       = []\n",
        "iterations_newton_modified = []\n",
        "\n",
        "for i in range(iterations) :\n",
        "  print('Corrida :', i+1)\n",
        "  x_0 = [1.0 + np.random.uniform(-2,2) for i in range(n)]\n",
        "  x_0 = np.array(x_0)\n",
        "\n",
        "  params = {\n",
        "          'x_0'      : x_0,\n",
        "          'f'        : Rosembrock,\n",
        "          'f_grad'   : Rosembrock_Grad,\n",
        "          'f_hess'   : Rosembrock_Hess,\n",
        "          'max_iter' : 1000,\n",
        "          'tau_x'    : 1e-12,\n",
        "          'tau_f'    : 1e-12,\n",
        "          'tau_grad' : 1e-12,\n",
        "          'Trust-Region' : {\n",
        "                            'delta_k'   : 0.1,\n",
        "                            'delta_max' : 0.2,\n",
        "                            'eta'       : 0.1,\n",
        "                            'eta_min'   : 0.25,\n",
        "                            'eta_max'   : 0.75,\n",
        "                            'eta1_hat'  : 0.25,\n",
        "                            'eta2_hat'  : 2.0\n",
        "                           }\n",
        "          }\n",
        "  # DOGLEG\n",
        "  star              = time.time()\n",
        "  f_hist, g_hist, x = trust_region(params, step = 'dogleg')\n",
        "  # get_graf(f_hist, g_hist)\n",
        "  ex_time           = time.time() - star  \n",
        "\n",
        "  time_dogleg.append(ex_time)\n",
        "  iterations_dogleg.append(f_hist.shape[0])\n",
        "\n",
        "  # NEWTON-CAUCHY\n",
        "  star              = time.time()\n",
        "  f_hist, g_hist, x = trust_region(params, step = 'newton-cauchy')\n",
        "  # get_graf(f_hist, g_hist)\n",
        "  ex_time           = time.time() - star  \n",
        "\n",
        "  time_newton_cauchy.append(ex_time)\n",
        "  iterations_newton_cauchy.append(f_hist.shape[0])\n",
        "  # Newton Modificado\n",
        "  params = {\n",
        "              'x_0'      : x_0,\n",
        "              'f'        : Rosembrock,\n",
        "              'f_grad'   : Rosembrock_Grad,\n",
        "              'f_hess'   : Rosembrock_Hess,\n",
        "              'max_iter' : 10000,\n",
        "              'tau_x'    : 1e-12,\n",
        "              'tau_f'    : 1e-12,\n",
        "              'tau_grad' : 1e-12,\n",
        "              'beta'     : 1e-12,\n",
        "              'cholesky' : {\n",
        "                            'max_iter' : 100\n",
        "                            }\n",
        "            }\n",
        "  star                = time.time()\n",
        "  f_hist, g_hist, x_k = newton_modified(params)\n",
        "  ex_time             = time.time() - star  \n",
        "\n",
        "  time_newton_modified.append(ex_time)\n",
        "  iterations_newton_modified.append(f_hist.shape[0])\n",
        "\n",
        "print('Dogleg:')\n",
        "print('Tiempo promedio: ', np.mean(time_dogleg), ' Promedio de iteraciones : ', np.mean(iterations_dogleg))\n",
        "print('Newton-Cauchy:')\n",
        "print('Tiempo promedio: ', np.mean(time_newton_cauchy), ' Promedio de iteraciones : ', np.mean(iterations_newton_cauchy))\n",
        "print('Newton Modificado:')\n",
        "print('Tiempo promedio: ', np.mean(time_newton_modified), ' Promedio de iteraciones : ', np.mean(iterations_newton_modified))"
      ],
      "execution_count": null,
      "outputs": [
        {
          "output_type": "stream",
          "text": [
            "Corrida : 1\n",
            "Corrida : 2\n",
            "Corrida : 3\n",
            "Corrida : 4\n",
            "Corrida : 5\n",
            "Corrida : 6\n",
            "Corrida : 7\n",
            "Corrida : 8\n",
            "Corrida : 9\n",
            "Corrida : 10\n",
            "Corrida : 11\n",
            "Corrida : 12\n",
            "Corrida : 13\n",
            "Corrida : 14\n",
            "Corrida : 15\n",
            "Corrida : 16\n",
            "Corrida : 17\n",
            "Corrida : 18\n",
            "Corrida : 19\n",
            "Corrida : 20\n",
            "Corrida : 21\n",
            "Corrida : 22\n",
            "Corrida : 23\n",
            "Corrida : 24\n",
            "Corrida : 25\n",
            "Corrida : 26\n",
            "Corrida : 27\n",
            "Corrida : 28\n",
            "Corrida : 29\n",
            "Corrida : 30\n",
            "Dogleg:\n",
            "Tiempo promedio:  0.25037341912587485  Promedio de iteraciones :  89.5\n",
            "Newton-Cauchy:\n",
            "Tiempo promedio:  0.21546154816945393  Promedio de iteraciones :  83.53333333333333\n",
            "Newton Modificado:\n",
            "Tiempo promedio:  2.3138083378473917  Promedio de iteraciones :  447.0\n"
          ],
          "name": "stdout"
        }
      ]
    },
    {
      "cell_type": "markdown",
      "metadata": {
        "id": "SdYYsmATi9AU"
      },
      "source": [
        "# Función de Wood"
      ]
    },
    {
      "cell_type": "markdown",
      "metadata": {
        "id": "Q2zlRhcW3jd8"
      },
      "source": [
        "## Corrida de prueba"
      ]
    },
    {
      "cell_type": "code",
      "metadata": {
        "colab": {
          "base_uri": "https://localhost:8080/",
          "height": 590
        },
        "id": "8aOXqM24COP0",
        "outputId": "58af62e0-bba3-407c-d22b-0f7a74cab209"
      },
      "source": [
        "n = 4\n",
        "x_0 = [1.0 + np.random.uniform(-2,2) for i in range(n)]\n",
        "x_0 = np.array(x_0)\n",
        "\n",
        "params = {\n",
        "          'x_0'      : x_0,\n",
        "          'f'        : Wood,\n",
        "          'f_grad'   : Wood_Grad,\n",
        "          'f_hess'   : Wood_Hess,\n",
        "          'max_iter' : 10000,\n",
        "          'tau_x'    : 1e-12,\n",
        "          'tau_f'    : 1e-12,\n",
        "          'tau_grad' : 1e-12,\n",
        "          'Trust-Region' : {\n",
        "                            'delta_k'   : 0.1,\n",
        "                            'delta_max' : 0.2,\n",
        "                            'eta'       : 0.1,\n",
        "                            'eta_min'   : 0.25,\n",
        "                            'eta_max'   : 0.75,\n",
        "                            'eta1_hat'  : 0.25,\n",
        "                            'eta2_hat'  : 2.0\n",
        "                           }\n",
        "          }\n",
        "\n",
        "f_hist, g_hist, x = trust_region(params, step = 'dogleg')\n",
        "print(x)\n",
        "\n",
        "get_graf(f_hist, g_hist)"
      ],
      "execution_count": null,
      "outputs": [
        {
          "output_type": "stream",
          "text": [
            "[1.00000089 1.00000179 0.99999906 0.99999812]\n"
          ],
          "name": "stdout"
        },
        {
          "output_type": "display_data",
          "data": {
            "image/png": "[encoded data removed]",
            "text/plain": [
              "<Figure size 432x288 with 1 Axes>"
            ]
          },
          "metadata": {
            "tags": [],
            "needs_background": "light"
          }
        },
        {
          "output_type": "display_data",
          "data": {
            "image/png": "[encoded data removed]",
            "text/plain": [
              "<Figure size 432x288 with 1 Axes>"
            ]
          },
          "metadata": {
            "tags": [],
            "needs_background": "light"
          }
        }
      ]
    },
    {
      "cell_type": "code",
      "metadata": {
        "colab": {
          "base_uri": "https://localhost:8080/",
          "height": 590
        },
        "id": "A_F2nXAHzFJQ",
        "outputId": "b3e02773-cf45-434d-e311-9680b3656d08"
      },
      "source": [
        "n = 4\n",
        "x_0 = [1.0 + np.random.uniform(-2,2) for i in range(n)]\n",
        "x_0 = np.array(x_0)\n",
        "\n",
        "params = {\n",
        "          'x_0'      : x_0,\n",
        "          'f'        : Wood,\n",
        "          'f_grad'   : Wood_Grad,\n",
        "          'f_hess'   : Wood_Hess,\n",
        "          'max_iter' : 10000,\n",
        "          'tau_x'    : 1e-12,\n",
        "          'tau_f'    : 1e-12,\n",
        "          'tau_grad' : 1e-12,\n",
        "          'Trust-Region' : {\n",
        "                            'delta_k'   : 0.1,\n",
        "                            'delta_max' : 0.2,\n",
        "                            'eta'       : 0.1,\n",
        "                            'eta_min'   : 0.25,\n",
        "                            'eta_max'   : 0.75,\n",
        "                            'eta1_hat'  : 0.25,\n",
        "                            'eta2_hat'  : 2.0\n",
        "                           }\n",
        "          }\n",
        "\n",
        "f_hist, g_hist, x = trust_region(params, step = 'newton-cauchy')\n",
        "print(x)\n",
        "\n",
        "get_graf(f_hist, g_hist)"
      ],
      "execution_count": null,
      "outputs": [
        {
          "output_type": "stream",
          "text": [
            "[1.00000091 1.00000182 0.99999905 0.99999809]\n"
          ],
          "name": "stdout"
        },
        {
          "output_type": "display_data",
          "data": {
            "image/png": "[encoded data removed]",
            "text/plain": [
              "<Figure size 432x288 with 1 Axes>"
            ]
          },
          "metadata": {
            "tags": [],
            "needs_background": "light"
          }
        },
        {
          "output_type": "display_data",
          "data": {
            "image/png": "[encoded data removed]",
            "text/plain": [
              "<Figure size 432x288 with 1 Axes>"
            ]
          },
          "metadata": {
            "tags": [],
            "needs_background": "light"
          }
        }
      ]
    },
    {
      "cell_type": "markdown",
      "metadata": {
        "id": "sK7otrrI3jd8"
      },
      "source": [
        "## 30 corridas"
      ]
    },
    {
      "cell_type": "code",
      "metadata": {
        "colab": {
          "base_uri": "https://localhost:8080/"
        },
        "id": "Jk8BSTx13xWm",
        "outputId": "2f6e484b-33f2-468b-84db-fbb15cfcd723"
      },
      "source": [
        "iterations = 30\n",
        "n = 4\n",
        "\n",
        "time_dogleg              = []\n",
        "iterations_dogleg        = []\n",
        "\n",
        "time_newton_cauchy       = []\n",
        "iterations_newton_cauchy = []\n",
        "\n",
        "\n",
        "time_newton_modified       = []\n",
        "iterations_newton_modified = []\n",
        "\n",
        "for i in range(iterations) :\n",
        "  print('Corrida :', i+1)\n",
        "  x_0 = [1.0 + np.random.uniform(-2,2) for i in range(n)]\n",
        "  x_0 = np.array(x_0)\n",
        "\n",
        "  params = {\n",
        "          'x_0'      : x_0,\n",
        "          'f'        : Wood,\n",
        "          'f_grad'   : Wood_Grad,\n",
        "          'f_hess'   : Wood_Hess,\n",
        "          'max_iter' : 1000,\n",
        "          'tau_x'    : 1e-12,\n",
        "          'tau_f'    : 1e-12,\n",
        "          'tau_grad' : 1e-12,\n",
        "          'Trust-Region' : {\n",
        "                            'delta_k'   : 0.1,\n",
        "                            'delta_max' : 0.2,\n",
        "                            'eta'       : 0.1,\n",
        "                            'eta_min'   : 0.25,\n",
        "                            'eta_max'   : 0.75,\n",
        "                            'eta1_hat'  : 0.25,\n",
        "                            'eta2_hat'  : 2.0\n",
        "                           }\n",
        "          }\n",
        "  # DOGLEG\n",
        "  star              = time.time()\n",
        "  f_hist, g_hist, x = trust_region(params, step = 'dogleg')\n",
        "  print('Dogleg        x* :', x)\n",
        "\n",
        "  # get_graf(f_hist, g_hist)\n",
        "  ex_time           = time.time() - star  \n",
        "\n",
        "  time_dogleg.append(ex_time)\n",
        "  iterations_dogleg.append(f_hist.shape[0])\n",
        "\n",
        "  # NEWTON-CAUCHY\n",
        "  star              = time.time()\n",
        "  f_hist, g_hist, x = trust_region(params, step = 'newton-cauchy')\n",
        "  print('Newton-Cauchy x* :', x)\n",
        "  # get_graf(f_hist, g_hist)\n",
        "  ex_time           = time.time() - star  \n",
        "\n",
        "  time_newton_cauchy.append(ex_time)\n",
        "  iterations_newton_cauchy.append(f_hist.shape[0])\n",
        "\n",
        "  # Newton Modificado\n",
        "  params = {\n",
        "              'x_0'      : x_0,\n",
        "              'f'        : Wood,\n",
        "              'f_grad'   : Wood_Grad,\n",
        "              'f_hess'   : Wood_Hess,\n",
        "              'max_iter' : 10000,\n",
        "              'tau_x'    : 1e-12,\n",
        "              'tau_f'    : 1e-12,\n",
        "              'tau_grad' : 1e-12,\n",
        "              'beta'     : 1e-12,\n",
        "              'cholesky' : {\n",
        "                            'max_iter' : 100\n",
        "                            }\n",
        "            }\n",
        "  star                = time.time()\n",
        "  f_hist, g_hist, x = newton_modified(params)\n",
        "  ex_time             = time.time() - star  \n",
        "  print('Newton Modifi x* :', x)\n",
        "\n",
        "  time_newton_modified.append(ex_time)\n",
        "  iterations_newton_modified.append(f_hist.shape[0])\n",
        "\n",
        "print('Dogleg:')\n",
        "print('Tiempo promedio: ', np.mean(time_dogleg), ' Promedio de iteraciones : ', np.mean(iterations_dogleg))\n",
        "print('Newton-Cauchy:')\n",
        "print('Tiempo promedio: ', np.mean(time_newton_cauchy), ' Promedio de iteraciones : ', np.mean(iterations_newton_cauchy))\n",
        "print('Newton Modificado:')\n",
        "print('Tiempo promedio: ', np.mean(time_newton_modified), ' Promedio de iteraciones : ', np.mean(iterations_newton_modified))"
      ],
      "execution_count": null,
      "outputs": [
        {
          "output_type": "stream",
          "text": [
            "Corrida : 1\n",
            "Dogleg        x* : [1.00000092 1.00000185 0.99999904 0.99999807]\n",
            "Newton-Cauchy x* : [1.00000094 1.00000188 0.99999902 0.99999804]\n",
            "Newton Modifi x* : [0.99999908 0.99999815 1.00000096 1.00000193]\n",
            "Corrida : 2\n",
            "Dogleg        x* : [0.99999911 0.99999821 1.00000094 1.00000188]\n",
            "Newton-Cauchy x* : [0.51479274 0.2651842  1.28511569 1.6541088 ]\n",
            "Newton Modifi x* : [1.00000092 1.00000184 0.99999904 0.99999808]\n",
            "Corrida : 3\n",
            "Dogleg        x* : [ 1.28019871  1.63323751 -0.43430821  0.2087043 ]\n",
            "Newton-Cauchy x* : [ 1.20968681  1.46645518 -0.66287649  0.45204281]\n",
            "Newton Modifi x* : [1.00000094 1.00000188 0.99999902 0.99999803]\n",
            "Corrida : 4\n",
            "Dogleg        x* : [1.00000094 1.00000188 0.99999902 0.99999804]\n",
            "Newton-Cauchy x* : [1.00000091 1.00000183 0.99999905 0.99999809]\n",
            "Newton Modifi x* : [1.00000089 1.00000178 0.99999907 0.99999814]\n",
            "Corrida : 5\n",
            "Dogleg        x* : [1.00000093 1.00000186 0.99999903 0.99999806]\n",
            "Newton-Cauchy x* : [1.00000088 1.00000177 0.99999908 0.99999815]\n",
            "Newton Modifi x* : [0.99999911 0.99999822 1.00000093 1.00000186]\n",
            "Corrida : 6\n",
            "Dogleg        x* : [-0.61829854  0.38759162  1.29223639  1.67532363]\n",
            "Newton-Cauchy x* : [-0.79276108  0.63462628  1.19698517  1.43736172]\n",
            "Newton Modifi x* : [1.00000092 1.00000185 0.99999904 0.99999807]\n",
            "Corrida : 7\n",
            "Dogleg        x* : [-0.96283164  0.90775569  1.04850093  1.09873308]\n",
            "Newton-Cauchy x* : [-0.98883702  0.96906437  1.0287668   1.05660634]\n",
            "Newton Modifi x* : [0.99999909 0.99999818 1.00000095 1.0000019 ]\n",
            "Corrida : 8\n",
            "Dogleg        x* : [1.0000009  1.0000018  0.99999906 0.99999812]\n",
            "Newton-Cauchy x* : [1.00000089 1.00000178 0.99999907 0.99999814]\n",
            "Newton Modifi x* : [1.00000087 1.00000174 0.99999909 0.99999818]\n",
            "Corrida : 9\n",
            "Dogleg        x* : [1.00000092 1.00000185 0.99999904 0.99999807]\n",
            "Newton-Cauchy x* : [ 1.41821196  2.00942658  0.06037712 -0.00319052]\n",
            "Newton Modifi x* : [1.00000089 1.00000178 0.99999907 0.99999814]\n",
            "Corrida : 10\n",
            "Dogleg        x* : [-0.93110044  0.86488353  1.06892507  1.14329891]\n",
            "Newton-Cauchy x* : [-1.04328072  1.096294    0.97033751  0.94000482]\n",
            "Newton Modifi x* : [0.9999991  0.99999819 1.00000095 1.0000019 ]\n",
            "Corrida : 11\n",
            "Dogleg        x* : [1.00000092 1.00000184 0.99999904 0.99999808]\n",
            "Newton-Cauchy x* : [1.0000009  1.0000018  0.99999906 0.99999812]\n",
            "Newton Modifi x* : [1.00000089 1.00000177 0.99999907 0.99999814]\n",
            "Corrida : 12\n",
            "Dogleg        x* : [1.00000089 1.00000179 0.99999907 0.99999813]\n",
            "Newton-Cauchy x* : [1.00000089 1.00000179 0.99999907 0.99999813]\n",
            "Newton Modifi x* : [0.9999991  0.9999982  1.00000094 1.00000188]\n",
            "Corrida : 13\n",
            "Dogleg        x* : [0.99999907 0.99999813 1.00000098 1.00000196]\n",
            "Newton-Cauchy x* : [1.00000088 1.00000176 0.99999908 0.99999816]\n",
            "Newton Modifi x* : [0.99999908 0.99999816 1.00000096 1.00000193]\n",
            "Corrida : 14\n",
            "Dogleg        x* : [-0.7226197   0.532023    1.20301755  1.44735825]\n",
            "Newton-Cauchy x* : [-0.75197764  0.56421384  1.19652372  1.43703893]\n",
            "Newton Modifi x* : [1.00000091 1.00000183 0.99999905 0.99999809]\n",
            "Corrida : 15\n",
            "Dogleg        x* : [1.00000089 1.00000179 0.99999906 0.99999812]\n",
            "Newton-Cauchy x* : [1.00000092 1.00000184 0.99999904 0.99999808]\n",
            "Newton Modifi x* : [1.00000093 1.00000186 0.99999903 0.99999806]\n",
            "Corrida : 16\n",
            "Dogleg        x* : [1.00000091 1.00000182 0.99999905 0.9999981 ]\n",
            "Newton-Cauchy x* : [0.99999912 0.99999824 1.00000092 1.00000184]\n",
            "Newton Modifi x* : [0.99999906 0.99999811 1.00000098 1.00000197]\n",
            "Corrida : 17\n",
            "Dogleg        x* : [0.99999911 0.99999821 1.00000093 1.00000187]\n",
            "Newton-Cauchy x* : [0.99999913 0.99999825 1.00000091 1.00000183]\n",
            "Newton Modifi x* : [1.0000009  1.0000018  0.99999906 0.99999811]\n",
            "Corrida : 18\n",
            "Dogleg        x* : [1.00000089 1.00000179 0.99999907 0.99999813]\n",
            "Newton-Cauchy x* : [1.00000088 1.00000177 0.99999908 0.99999815]\n",
            "Newton Modifi x* : [1.00000093 1.00000186 0.99999903 0.99999806]\n",
            "Corrida : 19\n",
            "Dogleg        x* : [1.00000094 1.00000189 0.99999902 0.99999803]\n",
            "Newton-Cauchy x* : [1.00000087 1.00000175 0.99999909 0.99999817]\n",
            "Newton Modifi x* : [1.00000092 1.00000185 0.99999903 0.99999806]\n",
            "Corrida : 20\n",
            "Dogleg        x* : [ 1.19722836  1.43695453 -0.66662178  0.4588493 ]\n",
            "Newton-Cauchy x* : [ 1.10707142  1.2211554  -0.82621707  0.69426356]\n",
            "Newton Modifi x* : [1.0000009  1.0000018  0.99999906 0.99999812]\n",
            "Corrida : 21\n",
            "Dogleg        x* : [ 1.02319758  1.0451522  -0.97411118  0.95720355]\n",
            "Newton-Cauchy x* : [ 1.0167155   1.02900252 -0.99104458  0.98948826]\n",
            "Newton Modifi x* : [1.00000091 1.00000182 0.99999905 0.9999981 ]\n",
            "Corrida : 22\n",
            "Dogleg        x* : [ 1.14988623  1.31764455 -0.76311861  0.5945849 ]\n",
            "Newton-Cauchy x* : [ 1.11343683  1.23627717 -0.85840912  0.74655861]\n",
            "Newton Modifi x* : [1.0000009  1.00000181 0.99999906 0.99999811]\n",
            "Corrida : 23\n",
            "Dogleg        x* : [1.00000093 1.00000187 0.99999903 0.99999805]\n",
            "Newton-Cauchy x* : [0.99999911 0.99999822 1.00000093 1.00000186]\n",
            "Newton Modifi x* : [1.00000089 1.00000178 0.99999907 0.99999814]\n",
            "Corrida : 24\n",
            "Dogleg        x* : [0.99999906 0.99999812 1.00000098 1.00000197]\n",
            "Newton-Cauchy x* : [0.99999906 0.99999812 1.00000098 1.00000197]\n",
            "Newton Modifi x* : [1.00000087 1.00000174 0.99999909 0.99999818]\n",
            "Corrida : 25\n",
            "Dogleg        x* : [1.00000091 1.00000183 0.99999904 0.99999808]\n",
            "Newton-Cauchy x* : [1.00000094 1.00000189 0.99999902 0.99999803]\n",
            "Newton Modifi x* : [1.0000009  1.0000018  0.99999906 0.99999811]\n",
            "Corrida : 26\n",
            "Dogleg        x* : [1.00000093 1.00000186 0.99999903 0.99999805]\n",
            "Newton-Cauchy x* : [1.00000092 1.00000184 0.99999904 0.99999807]\n",
            "Newton Modifi x* : [1.00000091 1.00000182 0.99999905 0.9999981 ]\n",
            "Corrida : 27\n",
            "Dogleg        x* : [1.0000009  1.0000018  0.99999906 0.99999812]\n",
            "Newton-Cauchy x* : [1.0000009  1.0000018  0.99999906 0.99999812]\n",
            "Newton Modifi x* : [0.99999906 0.99999812 1.00000098 1.00000197]\n",
            "Corrida : 28\n",
            "Dogleg        x* : [ 1.35377462  1.83647891 -0.04005839  0.01947404]\n",
            "Newton-Cauchy x* : [1.0000009  1.0000018  0.99999906 0.99999811]\n",
            "Newton Modifi x* : [1.00000089 1.00000178 0.99999907 0.99999814]\n",
            "Corrida : 29\n",
            "Dogleg        x* : [0.99999911 0.99999822 1.00000093 1.00000186]\n",
            "Newton-Cauchy x* : [-0.06685343 -0.0076888   1.4657019   2.15348363]\n",
            "Newton Modifi x* : [0.9999991  0.9999982  1.00000094 1.00000188]\n",
            "Corrida : 30\n",
            "Dogleg        x* : [0.99999907 0.99999814 1.00000097 1.00000194]\n",
            "Newton-Cauchy x* : [0.9999991  0.99999819 1.00000094 1.00000189]\n",
            "Newton Modifi x* : [0.99999911 0.99999821 1.00000093 1.00000187]\n",
            "Dogleg:\n",
            "Tiempo promedio:  0.029468552271525065  Promedio de iteraciones :  117.96666666666667\n",
            "Newton-Cauchy:\n",
            "Tiempo promedio:  0.02946027119954427  Promedio de iteraciones :  126.36666666666666\n",
            "Newton Modificado:\n",
            "Tiempo promedio:  0.05487315654754639  Promedio de iteraciones :  163.16666666666666\n"
          ],
          "name": "stdout"
        }
      ]
    },
    {
      "cell_type": "markdown",
      "metadata": {
        "id": "BFRuTJ6JNRnR"
      },
      "source": [
        "# Función de Branin"
      ]
    },
    {
      "cell_type": "markdown",
      "metadata": {
        "id": "Hq0VN9h63pht"
      },
      "source": [
        "## Corrida de prueba"
      ]
    },
    {
      "cell_type": "code",
      "metadata": {
        "colab": {
          "base_uri": "https://localhost:8080/",
          "height": 590
        },
        "id": "b0VeL7fqwKpT",
        "outputId": "10e65a2c-7d2c-4b01-a0a0-90cfc4548f35"
      },
      "source": [
        "x_0 = [np.pi + np.random.uniform(-2,2), 2.275 + np.random.uniform(-2,2)]\n",
        "x_0 = np.array(x_0)\n",
        "\n",
        "params = {\n",
        "          'x_0'      : x_0,\n",
        "          'f'        : Branin,\n",
        "          'f_grad'   : Branin_Grad,\n",
        "          'f_hess'   : Branin_Hess,\n",
        "          'max_iter' : 10000,\n",
        "          'tau_x'    : 1e-12,\n",
        "          'tau_f'    : 1e-12,\n",
        "          'tau_grad' : 1e-12,\n",
        "          'a' : 1.0,\n",
        "          'b' : 5.1 / (4.0 * np.pi**2),\n",
        "          'c' : 5.0 / np.pi,\n",
        "          'r' : 6.0,\n",
        "          's' : 10.0,\n",
        "          't' : 1.0 / (8.0 * np.pi),\n",
        "          'Trust-Region' : {\n",
        "                            'delta_k'   : 0.1,\n",
        "                            'delta_max' : 0.2,\n",
        "                            'eta'       : 0.1,\n",
        "                            'eta_min'   : 0.25,\n",
        "                            'eta_max'   : 0.75,\n",
        "                            'eta1_hat'  : 0.25,\n",
        "                            'eta2_hat'  : 2.0\n",
        "                           }\n",
        "          }\n",
        "\n",
        "f_hist, g_hist, x = trust_region(params, step = 'dogleg')\n",
        "print(x)\n",
        "\n",
        "get_graf(f_hist, g_hist)"
      ],
      "execution_count": null,
      "outputs": [
        {
          "output_type": "stream",
          "text": [
            "[3.14159239 2.27500021]\n"
          ],
          "name": "stdout"
        },
        {
          "output_type": "display_data",
          "data": {
            "image/png": "[encoded data removed]",
            "text/plain": [
              "<Figure size 432x288 with 1 Axes>"
            ]
          },
          "metadata": {
            "tags": [],
            "needs_background": "light"
          }
        },
        {
          "output_type": "display_data",
          "data": {
            "image/png": "[encoded data removed]",
            "text/plain": [
              "<Figure size 432x288 with 1 Axes>"
            ]
          },
          "metadata": {
            "tags": [],
            "needs_background": "light"
          }
        }
      ]
    },
    {
      "cell_type": "code",
      "metadata": {
        "colab": {
          "base_uri": "https://localhost:8080/",
          "height": 590
        },
        "id": "UzSWZ9AwNPWi",
        "outputId": "b6f650f0-6522-4179-d66c-77ca5d7d7be9"
      },
      "source": [
        "x_0 = [np.pi + np.random.uniform(-2,2), 2.275 + np.random.uniform(-2,2)]\n",
        "x_0 = np.array(x_0)\n",
        "\n",
        "params = {\n",
        "          'x_0'      : x_0,\n",
        "          'f'        : Branin,\n",
        "          'f_grad'   : Branin_Grad,\n",
        "          'f_hess'   : Branin_Hess,\n",
        "          'max_iter' : 10000,\n",
        "          'tau_x'    : 1e-12,\n",
        "          'tau_f'    : 1e-12,\n",
        "          'tau_grad' : 1e-12,\n",
        "          'a' : 1.0,\n",
        "          'b' : 5.1 / (4.0 * np.pi**2),\n",
        "          'c' : 5.0 / np.pi,\n",
        "          'r' : 6.0,\n",
        "          's' : 10.0,\n",
        "          't' : 1.0 / (8.0 * np.pi),\n",
        "          'Trust-Region' : {\n",
        "                            'delta_k'   : 0.1,\n",
        "                            'delta_max' : 0.2,\n",
        "                            'eta'       : 0.1,\n",
        "                            'eta_min'   : 0.25,\n",
        "                            'eta_max'   : 0.75,\n",
        "                            'eta1_hat'  : 0.25,\n",
        "                            'eta2_hat'  : 2.0\n",
        "                           }\n",
        "          }\n",
        "\n",
        "f_hist, g_hist, x = trust_region(params, step = 'newton-cauchy')\n",
        "print(x)\n",
        "\n",
        "get_graf(f_hist, g_hist)"
      ],
      "execution_count": null,
      "outputs": [
        {
          "output_type": "stream",
          "text": [
            "[3.14159291 2.2749998 ]\n"
          ],
          "name": "stdout"
        },
        {
          "output_type": "display_data",
          "data": {
            "image/png": "[encoded data removed]",
            "text/plain": [
              "<Figure size 432x288 with 1 Axes>"
            ]
          },
          "metadata": {
            "tags": [],
            "needs_background": "light"
          }
        },
        {
          "output_type": "display_data",
          "data": {
            "image/png": "[encoded data removed]",
            "text/plain": [
              "<Figure size 432x288 with 1 Axes>"
            ]
          },
          "metadata": {
            "tags": [],
            "needs_background": "light"
          }
        }
      ]
    },
    {
      "cell_type": "markdown",
      "metadata": {
        "id": "FcqXhfAw3pht"
      },
      "source": [
        "## 30 corridas"
      ]
    },
    {
      "cell_type": "code",
      "metadata": {
        "colab": {
          "base_uri": "https://localhost:8080/"
        },
        "id": "Q2V_y-V37loC",
        "outputId": "e91ac43b-ef93-45b4-9257-22c8433e6279"
      },
      "source": [
        "iterations = 30\n",
        "n = 4\n",
        "\n",
        "time_dogleg                = []\n",
        "iterations_dogleg          = []\n",
        "\n",
        "time_newton_cauchy         = []\n",
        "iterations_newton_cauchy   = []\n",
        "\n",
        "time_newton_modified       = []\n",
        "iterations_newton_modified = []\n",
        "\n",
        "for i in range(iterations) :\n",
        "  print('Corrida :', i+1)\n",
        "  x_0 = [np.pi + np.random.uniform(-2,2), 2.275 + np.random.uniform(-2,2)]\n",
        "  x_0 = np.array(x_0)\n",
        "\n",
        "  params = {\n",
        "          'x_0'      : x_0,\n",
        "          'f'        : Branin,\n",
        "          'f_grad'   : Branin_Grad,\n",
        "          'f_hess'   : Branin_Hess,\n",
        "          'max_iter' : 10000,\n",
        "          'tau_x'    : 1e-12,\n",
        "          'tau_f'    : 1e-12,\n",
        "          'tau_grad' : 1e-12,\n",
        "          'a' : 1.0,\n",
        "          'b' : 5.1 / (4.0 * np.pi**2),\n",
        "          'c' : 5.0 / np.pi,\n",
        "          'r' : 6.0,\n",
        "          's' : 10.0,\n",
        "          't' : 1.0 / (8.0 * np.pi),\n",
        "          'Trust-Region' : {\n",
        "                            'delta_k'   : 0.1,\n",
        "                            'delta_max' : 0.2,\n",
        "                            'eta'       : 0.1,\n",
        "                            'eta_min'   : 0.25,\n",
        "                            'eta_max'   : 0.75,\n",
        "                            'eta1_hat'  : 0.25,\n",
        "                            'eta2_hat'  : 2.0\n",
        "                           }\n",
        "          }\n",
        "  # DOGLEG\n",
        "  star              = time.time()\n",
        "  f_hist, g_hist, x = trust_region(params, step = 'dogleg')\n",
        "  print('Dogleg        x* :', x)\n",
        "\n",
        "  # get_graf(f_hist, g_hist)\n",
        "  ex_time           = time.time() - star  \n",
        "\n",
        "  time_dogleg.append(ex_time)\n",
        "  iterations_dogleg.append(f_hist.shape[0])\n",
        "\n",
        "  # NEWTON-CAUCHY\n",
        "  star              = time.time()\n",
        "  f_hist, g_hist, x = trust_region(params, step = 'newton-cauchy')\n",
        "  print('Newton-Cauchy x* :', x)\n",
        "\n",
        "  # get_graf(f_hist, g_hist)\n",
        "  ex_time           = time.time() - star  \n",
        "\n",
        "  time_newton_cauchy.append(ex_time)\n",
        "  iterations_newton_cauchy.append(f_hist.shape[0])\n",
        "  # Newton Modificado\n",
        "  params = {\n",
        "          'x_0'      : x_0,\n",
        "          'f'        : Branin,\n",
        "          'f_grad'   : Branin_Grad,\n",
        "          'f_hess'   : Branin_Hess,\n",
        "          'max_iter' : 10000,\n",
        "          'tau_x'    : 1e-12,\n",
        "          'tau_f'    : 1e-12,\n",
        "          'tau_grad' : 1e-12,\n",
        "          'beta'     : 1e-12,\n",
        "          'a' : 1.0,\n",
        "          'b' : 5.1 / (4.0 * np.pi**2),\n",
        "          'c' : 5.0 / np.pi,\n",
        "          'r' : 6.0,\n",
        "          's' : 10.0,\n",
        "          't' : 1.0 / (8.0 * np.pi),\n",
        "              'cholesky' : {\n",
        "                            'max_iter' : 100\n",
        "                            }\n",
        "            }\n",
        "  star                = time.time()\n",
        "  f_hist, g_hist, x = newton_modified(params)\n",
        "  ex_time             = time.time() - star  \n",
        "  print('Newton Modifi x* :', x)\n",
        "\n",
        "  time_newton_modified.append(ex_time)\n",
        "  iterations_newton_modified.append(f_hist.shape[0])\n",
        "\n",
        "print('Dogleg:')\n",
        "print('Tiempo promedio: ', np.mean(time_dogleg), ' Promedio de iteraciones : ', np.mean(iterations_dogleg))\n",
        "print('Newton-Cauchy:')\n",
        "print('Tiempo promedio: ', np.mean(time_newton_cauchy), ' Promedio de iteraciones : ', np.mean(iterations_newton_cauchy))\n",
        "print('Newton Modificado:')\n",
        "print('Tiempo promedio: ', np.mean(time_newton_modified), ' Promedio de iteraciones : ', np.mean(iterations_newton_modified))"
      ],
      "execution_count": null,
      "outputs": [
        {
          "output_type": "stream",
          "text": [
            "Corrida : 1\n",
            "Dogleg        x* : [3.14159287 2.27499983]\n",
            "Newton-Cauchy x* : [3.14159287 2.27499983]\n",
            "Newton Modifi x* : [3.14159243 2.27500018]\n",
            "Corrida : 2\n",
            "Dogleg        x* : [3.14159289 2.27499982]\n",
            "Newton-Cauchy x* : [3.14159248 2.27500014]\n",
            "Newton Modifi x* : [3.14159283 2.27499986]\n",
            "Corrida : 3\n",
            "Dogleg        x* : [6.36999887 1.08092289]\n",
            "Newton-Cauchy x* : [3.14159283 2.27499986]\n",
            "Newton Modifi x* : [3.14159289 2.27499982]\n",
            "Corrida : 4\n",
            "Dogleg        x* : [3.14159246 2.27500015]\n",
            "Newton-Cauchy x* : [3.14159246 2.27500015]\n",
            "Newton Modifi x* : [3.14159247 2.27500014]\n",
            "Corrida : 5\n",
            "Dogleg        x* : [3.14159244 2.27500017]\n",
            "Newton-Cauchy x* : [3.14159246 2.27500015]\n",
            "Newton Modifi x* : [3.1415924 2.2750002]\n",
            "Corrida : 6\n",
            "Dogleg        x* : [3.14159289 2.27499981]\n",
            "Newton-Cauchy x* : [3.14159292 2.27499979]\n",
            "Newton Modifi x* : [3.14159293 2.27499979]\n",
            "Corrida : 7\n",
            "Dogleg        x* : [6.25293281 1.09850912]\n",
            "Newton-Cauchy x* : [3.14159282 2.27499987]\n",
            "Newton Modifi x* : [3.14159241 2.27500019]\n",
            "Corrida : 8\n",
            "Dogleg        x* : [3.14159289 2.27499982]\n",
            "Newton-Cauchy x* : [3.14159289 2.27499981]\n",
            "Newton Modifi x* : [3.14159283 2.27499986]\n",
            "Corrida : 9\n",
            "Dogleg        x* : [3.14159287 2.27499983]\n",
            "Newton-Cauchy x* : [3.14159249 2.27500013]\n",
            "Newton Modifi x* : [3.14159285 2.27499984]\n",
            "Corrida : 10\n",
            "Dogleg        x* : [3.14159293 2.27499979]\n",
            "Newton-Cauchy x* : [3.14159286 2.27499984]\n",
            "Newton Modifi x* : [3.14159283 2.27499986]\n",
            "Corrida : 11\n",
            "Dogleg        x* : [3.14159246 2.27500015]\n",
            "Newton-Cauchy x* : [3.14159289 2.27499982]\n",
            "Newton Modifi x* : [3.14159243 2.27500018]\n",
            "Corrida : 12\n",
            "Dogleg        x* : [3.14159246 2.27500015]\n",
            "Newton-Cauchy x* : [3.14159246 2.27500015]\n",
            "Newton Modifi x* : [3.14159241 2.27500019]\n",
            "Corrida : 13\n",
            "Dogleg        x* : [3.14159243 2.27500017]\n",
            "Newton-Cauchy x* : [3.14159243 2.27500017]\n",
            "Newton Modifi x* : [3.14159241 2.27500019]\n",
            "Corrida : 14\n",
            "Dogleg        x* : [3.14159292 2.27499979]\n",
            "Newton-Cauchy x* : [3.14159247 2.27500014]\n",
            "Newton Modifi x* : [3.14159245 2.27500016]\n",
            "Corrida : 15\n",
            "Dogleg        x* : [3.14159238 2.27500021]\n",
            "Newton-Cauchy x* : [3.14159238 2.27500021]\n",
            "Newton Modifi x* : [3.14159247 2.27500014]\n",
            "Corrida : 16\n",
            "Dogleg        x* : [3.14159247 2.27500015]\n",
            "Newton-Cauchy x* : [3.20637966 2.09897797]\n",
            "Newton Modifi x* : [ 103.66090952 1229.18151651]\n",
            "Corrida : 17\n",
            "Dogleg        x* : [3.14159248 2.27500014]\n",
            "Newton-Cauchy x* : [3.14159249 2.27500013]\n",
            "Newton Modifi x* : [3.14159246 2.27500015]\n",
            "Corrida : 18\n",
            "Dogleg        x* : [3.14159239 2.27500021]\n",
            "Newton-Cauchy x* : [3.14159239 2.27500021]\n",
            "Newton Modifi x* : [3.14159245 2.27500016]\n",
            "Corrida : 19\n",
            "Dogleg        x* : [3.1415924 2.2750002]\n",
            "Newton-Cauchy x* : [3.14159246 2.27500015]\n",
            "Newton Modifi x* : [3.14159243 2.27500018]\n",
            "Corrida : 20\n",
            "Dogleg        x* : [3.14159282 2.27499987]\n",
            "Newton-Cauchy x* : [3.14159282 2.27499987]\n",
            "Newton Modifi x* : [-47.12388979 367.87499987]\n",
            "Corrida : 21\n",
            "Dogleg        x* : [3.14159241 2.27500019]\n",
            "Newton-Cauchy x* : [3.14159287 2.27499983]\n",
            "Newton Modifi x* : [3.1415924 2.2750002]\n",
            "Corrida : 22\n",
            "Dogleg        x* : [3.14159247 2.27500014]\n",
            "Newton-Cauchy x* : [3.14159247 2.27500014]\n",
            "Newton Modifi x* : [3.14159293 2.27499979]\n",
            "Corrida : 23\n",
            "Dogleg        x* : [3.24309322 2.06648097]\n",
            "Newton-Cauchy x* : [3.22727766 2.02858017]\n",
            "Newton Modifi x* : [3.14159242 2.27500018]\n",
            "Corrida : 24\n",
            "Dogleg        x* : [3.14159237 2.27500022]\n",
            "Newton-Cauchy x* : [3.14159237 2.27500022]\n",
            "Newton Modifi x* : [3.14159284 2.27499985]\n",
            "Corrida : 25\n",
            "Dogleg        x* : [3.14159245 2.27500016]\n",
            "Newton-Cauchy x* : [3.14159245 2.27500016]\n",
            "Newton Modifi x* : [3.14159282 2.27499987]\n",
            "Corrida : 26\n",
            "Dogleg        x* : [3.23764345 2.04004134]\n",
            "Newton-Cauchy x* : [3.14159294 2.27499978]\n",
            "Newton Modifi x* : [3.14159284 2.27499986]\n",
            "Corrida : 27\n",
            "Dogleg        x* : [3.14159245 2.27500016]\n",
            "Newton-Cauchy x* : [3.14159246 2.27500015]\n",
            "Newton Modifi x* : [3.14159248 2.27500013]\n",
            "Corrida : 28\n",
            "Dogleg        x* : [3.14159248 2.27500014]\n",
            "Newton-Cauchy x* : [3.14159248 2.27500014]\n",
            "Newton Modifi x* : [3.14159247 2.27500014]\n",
            "Corrida : 29\n",
            "Dogleg        x* : [3.14159243 2.27500017]\n",
            "Newton-Cauchy x* : [3.14159242 2.27500018]\n",
            "Newton Modifi x* : [3.14159243 2.27500017]\n",
            "Corrida : 30\n",
            "Dogleg        x* : [3.14159288 2.27499983]\n",
            "Newton-Cauchy x* : [3.14159241 2.27500019]\n",
            "Newton Modifi x* : [3.14159294 2.27499978]\n",
            "Dogleg:\n",
            "Tiempo promedio:  0.00746157169342041  Promedio de iteraciones :  28.6\n",
            "Newton-Cauchy:\n",
            "Tiempo promedio:  0.006424379348754883  Promedio de iteraciones :  28.033333333333335\n",
            "Newton Modificado:\n",
            "Tiempo promedio:  0.06308165391286215  Promedio de iteraciones :  358.8\n"
          ],
          "name": "stdout"
        }
      ]
    },
    {
      "cell_type": "code",
      "metadata": {
        "id": "oTR6rkg2Mamt"
      },
      "source": [
        ""
      ],
      "execution_count": null,
      "outputs": []
    }
  ]
}