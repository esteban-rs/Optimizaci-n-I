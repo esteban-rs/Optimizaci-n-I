{
  "nbformat": 4,
  "nbformat_minor": 0,
  "metadata": {
    "colab": {
      "name": "T09_MC_Esteban_Reyes_Saldana.ipynb",
      "provenance": []
    },
    "kernelspec": {
      "name": "python3",
      "display_name": "Python 3"
    },
    "language_info": {
      "name": "python"
    }
  },
  "cells": [
    {
      "cell_type": "code",
      "metadata": {
        "id": "US6ouf38HjCu"
      },
      "source": [
        "# Librerías\n",
        "import numpy as np\n",
        "import time\n",
        "import matplotlib.pyplot as plt"
      ],
      "execution_count": null,
      "outputs": []
    },
    {
      "cell_type": "markdown",
      "metadata": {
        "id": "S0cip1UJHqRq"
      },
      "source": [
        "# Gradiente Conjugado"
      ]
    },
    {
      "cell_type": "code",
      "metadata": {
        "id": "Pfe1BeA2Hr_0"
      },
      "source": [
        "# Descenso Gradiente\n",
        "def conjugate_gradient (params = [], show_logs = False) :\n",
        "  # Cargo parámetros\n",
        "  x_k        = params['x_0']\n",
        "  x_k_next   = None\n",
        "    \n",
        "  f          = params['f']\n",
        "  f_grad     = params['f_grad']\n",
        "  max_iter   = params['max_iter']\n",
        "  tau_x      = params['tau_x']\n",
        "  tau_f      = params['tau_f']\n",
        "  tau_f_grad = params['tau_grad']\n",
        "\n",
        "  # Parámetros para evaluación de f\n",
        "  sub_params = params['f_params']\n",
        "  Q          = sub_params['Q']\n",
        "        \n",
        "  # Guardo Parámetros\n",
        "  f_hist = []\n",
        "  f_hist.append(f(x_k, params = sub_params))\n",
        "\n",
        "  g_k      = f_grad(x_k, params = sub_params)\n",
        "  g_k_next = None\n",
        "  d_k      =  - g_k\n",
        "\n",
        "  g_hist = []\n",
        "  g_hist.append(np.linalg.norm(f_grad(x_k, params = sub_params)))\n",
        "\n",
        "  # Comienza iteraciones\n",
        "  k = 0 \n",
        "  while True:\n",
        "    # Obtengo Q d_k\n",
        "    q_k     = Q.dot(d_k)\n",
        "    alpha_k = - (g_k.dot(d_k)) / (d_k.T.dot(q_k))\n",
        "    \n",
        "    # Calculo siguiente valor x_k+1\n",
        "    x_k_next = x_k + alpha_k * d_k\n",
        "    # Calculo gradiente para siguiente iteración\n",
        "    g_k      = f_grad(x_k_next, params = sub_params)\n",
        "      \n",
        "    # Guardo Parámetros\n",
        "    f_hist.append(f(x_k_next,  sub_params))\n",
        "    g_hist.append(np.linalg.norm(g_k))\n",
        "\n",
        "    # Calculo siguiente dirección de descenso\n",
        "    beta_k = (g_k.T.dot(q_k)) / (d_k.T.dot(q_k))\n",
        "\n",
        "    d_k    = -g_k + beta_k * d_k\n",
        "\n",
        "    # Criterios de paro -------------------------------------------------------\n",
        "    if k > max_iter :\n",
        "      if show_logs :\n",
        "        print('Iteraciones: ', k, ' , valor: ', x_k_next)\n",
        "      break \n",
        "    if np.linalg.norm(x_k_next - x_k) / max(np.linalg.norm(x_k), 1.0) < tau_x :\n",
        "      if show_logs :\n",
        "        print('Iteraciones: ', k, ' , valor: ', x_k_next)\n",
        "      break      \n",
        "    if np.linalg.norm(g_hist[-1]) < tau_f_grad :\n",
        "      if show_logs :\n",
        "        print('Iteraciones: ', k, ' , valor: ', x_k_next)\n",
        "      break\n",
        "    # -------------------------------------------------------------------------\n",
        "    # Actualización   \n",
        "    x_k = x_k_next       \n",
        "    k   = k + 1\n",
        "  return  np.array(f_hist), np.array(g_hist), x_k_next"
      ],
      "execution_count": null,
      "outputs": []
    },
    {
      "cell_type": "markdown",
      "metadata": {
        "id": "ko_xgbImHse3"
      },
      "source": [
        "# Barzilai-Borwein"
      ]
    },
    {
      "cell_type": "code",
      "metadata": {
        "id": "UUTi7qWuIGjK"
      },
      "source": [
        "# Descenso Gradiente\n",
        "def barzilai_borwein (params = [], show_logs = False) :\n",
        "  # Cargo parámetros\n",
        "  x_k_prev   = None\n",
        "  x_k        = params['x_0']\n",
        "  f          = params['f']\n",
        "\n",
        "  f_grad     = params['f_grad']\n",
        "  g_k_prev   = None\n",
        "  max_iter   = params['max_iter']\n",
        "  tau_x      = params['tau_x']\n",
        "  tau_f      = params['tau_f']\n",
        "  tau_f_grad = params['tau_grad']\n",
        "\n",
        "  # Parámetros para evaluación de f\n",
        "  sub_params = params['f_params']\n",
        "        \n",
        "  # Guardo Parámetros\n",
        "  f_hist = []\n",
        "\n",
        "  g_k    = f_grad(x_k, params = sub_params)\n",
        "  g_hist = []\n",
        "\n",
        "  # Comienza iteraciones\n",
        "  k       = 0 \n",
        "  alpha_k = params['alpha']\n",
        "\n",
        "  while True:\n",
        "    # Entrar solo si no corresponde a paso exacto\n",
        "    if k != 0 :  \n",
        "      s_k1     = x_k - x_k_prev\n",
        "      y_k1     = g_k - g_k_prev\n",
        "      alpha_k  = s_k1.T.dot(y_k1) / y_k1.T.dot(y_k1)\n",
        "\n",
        "    # Calculo siguiente valor x_k+1\n",
        "    x_k_prev = x_k\n",
        "    x_k      = x_k_prev - alpha_k * g_k\n",
        "    \n",
        "    # Calculo gradiente para siguiente iteración\n",
        "    g_k_prev = g_k\n",
        "    g_k      = f_grad(x_k, params = sub_params)\n",
        "      \n",
        "    # Guardo Parámetros\n",
        "    f_hist.append(f(x_k,  sub_params))\n",
        "    g_hist.append(np.linalg.norm(g_k))\n",
        "\n",
        "    # Criterios de paro -------------------------------------------------------\n",
        "    if k > max_iter :\n",
        "      if show_logs :\n",
        "        print('Iteraciones: ', k, ' , valor: ', x_k)\n",
        "      break \n",
        "    if np.linalg.norm(x_k - x_k_prev) / max(np.linalg.norm(x_k_prev), 1.0) < tau_x :\n",
        "      if show_logs :\n",
        "        print('Iteraciones: ', k, ' , valor: ', x_k)\n",
        "      break      \n",
        "    if np.linalg.norm(g_hist[-1]) < tau_f_grad :\n",
        "      if show_logs :\n",
        "        print('Iteraciones: ', k, ' , valor: ', x_k)\n",
        "      break\n",
        "    # -------------------------------------------------------------------------\n",
        "    # Actualización   \n",
        "    k   = k + 1\n",
        "\n",
        "  return np.array(f_hist), np.array(g_hist), x_k"
      ],
      "execution_count": null,
      "outputs": []
    },
    {
      "cell_type": "markdown",
      "metadata": {
        "id": "_UkAT-hfsFFB"
      },
      "source": [
        "# Descenso Gradiente con paso exacto"
      ]
    },
    {
      "cell_type": "code",
      "metadata": {
        "id": "AkkFLPT6sH5N"
      },
      "source": [
        "def steepest_descent (params = [], show_logs = False) :\n",
        "    # Cargo parámetros\n",
        "    x_k        = params['x_0']\n",
        "    x_k_next   = None\n",
        "    \n",
        "    f          = params['f']\n",
        "    f_grad     = params['f_grad']\n",
        "    max_iter   = params['max_iter']\n",
        "    tau_x      = params['tau_x']\n",
        "    tau_f      = params['tau_f']\n",
        "    tau_f_grad = params['tau_grad']\n",
        "    \n",
        "    sub_params = params['f_params']\n",
        "    # Guardo Parámetros\n",
        "    f_hist = []\n",
        "    f_hist.append(f(x_k, sub_params))\n",
        "\n",
        "    g_hist = []\n",
        "    g_hist.append(np.linalg.norm(f_grad(x_k, sub_params)))  \n",
        "    \n",
        "    # Comienza descenso\n",
        "    k = 0 \n",
        "    while True:\n",
        "        # Calculo gradiente\n",
        "        g_k      = f_grad(x_k, sub_params) \n",
        "        d_k      = - g_k\n",
        "        # Cálculo tamaño de paso\n",
        "        alpha_k  = ( g_k.T.dot(g_k) ) / ( g_k.T.dot(Q).dot(g_k) )   \n",
        "\n",
        "        x_k_next = x_k + alpha_k * d_k   \n",
        "\n",
        "        f_hist.append(f(x_k_next, sub_params))\n",
        "        g_hist.append(np.linalg.norm(f_grad(x_k_next, params = sub_params)))\n",
        "        # Criterios de paro\n",
        "        if k > max_iter :\n",
        "            break       \n",
        "        g_k_norm = np.linalg.norm(f_grad(x_k_next, sub_params))\n",
        "        if g_k_norm < tau_f_grad :\n",
        "          if show_logs :\n",
        "            print('Iteraciones: ', k, ' , valor: ', x_k_next)\n",
        "          break\n",
        "        if np.abs(f_hist[-1] - f_hist[-2]) / max(np.abs(f_hist[-2]), 1.0) < tau_f :\n",
        "          if show_logs :\n",
        "            print('Iteraciones: ', k, ' , valor: ', x_k_next)\n",
        "          break \n",
        "        if np.linalg.norm(x_k_next - x_k) / max(np.linalg.norm(x_k), 1.0) < tau_x :\n",
        "          if show_logs :\n",
        "            print('Iteraciones: ', k, ' , valor: ', x_k_next)\n",
        "          break \n",
        "        # Guardo valor anterior   \n",
        "        x_k = x_k_next       \n",
        "        k   = k + 1        \n",
        "\n",
        "    return np.array(f_hist), np.array(g_hist), x_k_next"
      ],
      "execution_count": null,
      "outputs": []
    },
    {
      "cell_type": "markdown",
      "metadata": {
        "id": "gndkTB4wVbW9"
      },
      "source": [
        "# Función a optimizar"
      ]
    },
    {
      "cell_type": "code",
      "metadata": {
        "id": "MugUTjTPIDjK"
      },
      "source": [
        "def generate_Q_b (n = 10000, m = 3, ncond = 2) :\n",
        "  # Creo matrix diagonal\n",
        "  d = np.zeros(n, dtype = np.float32)\n",
        "  for i in range(n) :\n",
        "    d[i] = np.exp( i / (n - 1) * ncond )\n",
        "  D = np.diag (d, k = 0)\n",
        "  \n",
        "  # Genero matriz P\n",
        "  P = np.identity(n, dtype = np.float32)\n",
        "  for j in range(m) :\n",
        "    u_j = np.random.uniform(-1, 1, size = (n, 1))\n",
        "    H_j = np.identity(n, dtype = np.float32) - 2.0 / u_j.T.dot(u_j)[0][0] *  u_j.dot(u_j.T)\n",
        "    P   = P * H_j\n",
        "\n",
        "  # Obtengo Q\n",
        "  Q = P * D * P.T\n",
        "\n",
        "  # Obtengo b\n",
        "  b = Q.dot( np.random.uniform(-1, 1, size = n) )\n",
        "\n",
        "  return Q, b"
      ],
      "execution_count": null,
      "outputs": []
    },
    {
      "cell_type": "code",
      "metadata": {
        "id": "8CFmzaXgVJw4"
      },
      "source": [
        "def f (x, params = {}) :\n",
        "  Q = params['Q']\n",
        "  b = params['b']\n",
        "\n",
        "  f_ = 0.5 * x.T.dot(Q).dot(x) - b.T.dot(x)\n",
        "\n",
        "  return f_\n",
        "\n",
        "def f_grad (x, params = {}) :\n",
        "  Q = params['Q']\n",
        "  b = params['b']\n",
        "\n",
        "  grad = Q.dot(x) - b  \n",
        "\n",
        "  return grad"
      ],
      "execution_count": null,
      "outputs": []
    },
    {
      "cell_type": "code",
      "metadata": {
        "id": "hp_1OQVfW-DV"
      },
      "source": [
        "def get_graf(f_hist, g_hist) :    \n",
        "  plt.plot(range(f_hist.shape[0]), f_hist) \n",
        "  # naming the x axis \n",
        "  plt.xlabel('k') \n",
        "  # naming the y axis \n",
        "  plt.ylabel('f_k') \n",
        "\n",
        "  # giving a title to my graph \n",
        "  plt.title('Iteration vs Fuction Value') \n",
        "\n",
        "  # function to show the plot \n",
        "  plt.show() \n",
        "\n",
        "  plt.plot(range(g_hist.shape[0]), g_hist) \n",
        "  # naming the x axis \n",
        "  plt.xlabel('k') \n",
        "  # naming the y axis \n",
        "  plt.ylabel('g_k') \n",
        "\n",
        "  # giving a title to my graph \n",
        "  plt.title('Iteration vs Gradient Norm') \n",
        "\n",
        "  # function to show the plot \n",
        "  plt.show() "
      ],
      "execution_count": null,
      "outputs": []
    },
    {
      "cell_type": "markdown",
      "metadata": {
        "id": "LMBVLM3mVfkB"
      },
      "source": [
        "# Expermentación"
      ]
    },
    {
      "cell_type": "code",
      "metadata": {
        "id": "_9iqtklAtAIl"
      },
      "source": [
        "n    = 10000\n",
        "m     = 3\n",
        "x     = np.random.uniform(-1, 1, size = n)"
      ],
      "execution_count": null,
      "outputs": []
    },
    {
      "cell_type": "markdown",
      "metadata": {
        "id": "fLTr4CgXs1nK"
      },
      "source": [
        "## ncond = 2"
      ]
    },
    {
      "cell_type": "markdown",
      "metadata": {
        "id": "_b-IqtT5tJGi"
      },
      "source": [
        "### Gradiente Conjugado"
      ]
    },
    {
      "cell_type": "code",
      "metadata": {
        "colab": {
          "base_uri": "https://localhost:8080/"
        },
        "id": "6JgZS3eRSvzw",
        "outputId": "b1049f0f-a4d1-4662-ae2a-a61cf2dae880"
      },
      "source": [
        "ncond = 2\n",
        "Q, b  = generate_Q_b(n, m, ncond)\n",
        "\n",
        "params = {'x_0'      : x,\n",
        "          'f'        : f, \n",
        "          'f_grad'   : f_grad,\n",
        "          'max_iter' : 500, \n",
        "          'tau_x'    : 1e-8,\n",
        "          'tau_f'    : 1e-8,\n",
        "          'tau_grad' : 1e-8,\n",
        "          'f_params' : {'Q'    : Q,\n",
        "                        'b'    : b,\n",
        "                       }\n",
        "          }\n",
        "\n",
        "\n",
        "f_hist, g_hist, x_k_next = conjugate_gradient(params, show_logs = True)"
      ],
      "execution_count": null,
      "outputs": [
        {
          "output_type": "stream",
          "text": [
            "Iteraciones:  25  , valor:  [ 0.20908945  0.56406202 -0.47595882 ...  0.90026231 -0.06561148\n",
            " -0.75255651]\n"
          ],
          "name": "stdout"
        }
      ]
    },
    {
      "cell_type": "code",
      "metadata": {
        "colab": {
          "base_uri": "https://localhost:8080/",
          "height": 573
        },
        "id": "LqWUh29KTC5j",
        "outputId": "c2d754d7-291a-4073-fe40-bfd4a7a52c77"
      },
      "source": [
        "get_graf(f_hist, g_hist)"
      ],
      "execution_count": null,
      "outputs": [
        {
          "output_type": "display_data",
          "data": {
            "image/png": "[encoded data removed]",
            "text/plain": [
              "<Figure size 432x288 with 1 Axes>"
            ]
          },
          "metadata": {
            "tags": [],
            "needs_background": "light"
          }
        },
        {
          "output_type": "display_data",
          "data": {
            "image/png": "[encoded data removed]",
            "text/plain": [
              "<Figure size 432x288 with 1 Axes>"
            ]
          },
          "metadata": {
            "tags": [],
            "needs_background": "light"
          }
        }
      ]
    },
    {
      "cell_type": "markdown",
      "metadata": {
        "id": "X1Xtp9GStLlW"
      },
      "source": [
        "### barzilai Borwein"
      ]
    },
    {
      "cell_type": "code",
      "metadata": {
        "colab": {
          "base_uri": "https://localhost:8080/"
        },
        "id": "k3jstVIHTVd6",
        "outputId": "f2c9477c-9c41-417e-c1ab-e4d0fd06749e"
      },
      "source": [
        "params = {'x_0'      : x,\n",
        "          'alpha'    : 0.9,\n",
        "          'f'        : f, \n",
        "          'f_grad'   : f_grad,\n",
        "          'max_iter' : 500, \n",
        "          'tau_x'    : 1e-8,\n",
        "          'tau_f'    : 1e-8,\n",
        "          'tau_grad' : 1e-8,\n",
        "          'f_params' : {'Q'    : Q,\n",
        "                        'b'    : b,\n",
        "                       }\n",
        "          }\n",
        "\n",
        "f_hist, g_hist, x_k_next = barzilai_borwein(params, show_logs = True)"
      ],
      "execution_count": null,
      "outputs": [
        {
          "output_type": "stream",
          "text": [
            "Iteraciones:  28  , valor:  [ 0.20908945  0.56406202 -0.47595882 ...  0.90026231 -0.06561148\n",
            " -0.75255652]\n"
          ],
          "name": "stdout"
        }
      ]
    },
    {
      "cell_type": "code",
      "metadata": {
        "colab": {
          "base_uri": "https://localhost:8080/",
          "height": 573
        },
        "id": "iJWyrGZMYLge",
        "outputId": "8c395b68-1ec7-4881-8fc9-977782bc4184"
      },
      "source": [
        "get_graf(f_hist, g_hist)"
      ],
      "execution_count": null,
      "outputs": [
        {
          "output_type": "display_data",
          "data": {
            "image/png": "[encoded data removed]",
            "text/plain": [
              "<Figure size 432x288 with 1 Axes>"
            ]
          },
          "metadata": {
            "tags": [],
            "needs_background": "light"
          }
        },
        {
          "output_type": "display_data",
          "data": {
            "image/png": "[encoded data removed]",
            "text/plain": [
              "<Figure size 432x288 with 1 Axes>"
            ]
          },
          "metadata": {
            "tags": [],
            "needs_background": "light"
          }
        }
      ]
    },
    {
      "cell_type": "markdown",
      "metadata": {
        "id": "7cOQI0q2tWYq"
      },
      "source": [
        "### Steepest Descent"
      ]
    },
    {
      "cell_type": "code",
      "metadata": {
        "id": "_WQgcRxWa_EQ",
        "colab": {
          "base_uri": "https://localhost:8080/"
        },
        "outputId": "610b9b81-06d1-443c-cc66-cffce9742513"
      },
      "source": [
        "params = {'x_0'      : x,\n",
        "          'alpha'    : 0.5,\n",
        "          'f'        : f, \n",
        "          'f_grad'   : f_grad,\n",
        "          'max_iter' : 100, \n",
        "          'tau_x'    : 1e-8,\n",
        "          'tau_f'    : 1e-8,\n",
        "          'tau_grad' : 1e-8,\n",
        "          'f_params' : {'Q' : Q,\n",
        "                        'b' : b,\n",
        "                       }\n",
        "          }\n",
        "\n",
        "f_hist, g_hist, x_k_next = steepest_descent(params, show_logs = True)"
      ],
      "execution_count": null,
      "outputs": [
        {
          "output_type": "stream",
          "text": [
            "Iteraciones:  26  , valor:  [ 0.20848033  0.5643285  -0.4752523  ...  0.90034242 -0.0655883\n",
            " -0.75281071]\n"
          ],
          "name": "stdout"
        }
      ]
    },
    {
      "cell_type": "code",
      "metadata": {
        "colab": {
          "base_uri": "https://localhost:8080/",
          "height": 573
        },
        "id": "32pyhCzqs6FZ",
        "outputId": "ab086fe7-4b31-4a2b-e9a4-47586c52d0fb"
      },
      "source": [
        "get_graf(f_hist, g_hist)"
      ],
      "execution_count": null,
      "outputs": [
        {
          "output_type": "display_data",
          "data": {
            "image/png": "[encoded data removed]",
            "text/plain": [
              "<Figure size 432x288 with 1 Axes>"
            ]
          },
          "metadata": {
            "tags": [],
            "needs_background": "light"
          }
        },
        {
          "output_type": "display_data",
          "data": {
            "image/png": "[encoded data removed]",
            "text/plain": [
              "<Figure size 432x288 with 1 Axes>"
            ]
          },
          "metadata": {
            "tags": [],
            "needs_background": "light"
          }
        }
      ]
    },
    {
      "cell_type": "markdown",
      "metadata": {
        "id": "M1BHj7BTs6J2"
      },
      "source": [
        "## ncond = 4"
      ]
    },
    {
      "cell_type": "markdown",
      "metadata": {
        "id": "8mJcG37MkbEH"
      },
      "source": [
        "### Gradiente Conjugado"
      ]
    },
    {
      "cell_type": "code",
      "metadata": {
        "colab": {
          "base_uri": "https://localhost:8080/"
        },
        "id": "xp_-7NfBkbEH",
        "outputId": "d50f0bcf-6c9d-411f-b362-9ffac8765b37"
      },
      "source": [
        "ncond = 4\n",
        "Q, b  = generate_Q_b(n, m, ncond)\n",
        "\n",
        "params = {'x_0'      : x,\n",
        "          'f'        : f, \n",
        "          'f_grad'   : f_grad,\n",
        "          'max_iter' : 500, \n",
        "          'tau_x'    : 1e-8,\n",
        "          'tau_f'    : 1e-8,\n",
        "          'tau_grad' : 1e-8,\n",
        "          'f_params' : {'Q'    : Q,\n",
        "                        'b'    : b,\n",
        "                       }\n",
        "          }\n",
        "\n",
        "\n",
        "f_hist, g_hist, x_k_next = conjugate_gradient(params , show_logs = True)"
      ],
      "execution_count": null,
      "outputs": [
        {
          "output_type": "stream",
          "text": [
            "Iteraciones:  66  , valor:  [-0.7096365   0.7334162  -0.40090622 ...  0.31043701 -0.90268662\n",
            "  0.03907372]\n"
          ],
          "name": "stdout"
        }
      ]
    },
    {
      "cell_type": "code",
      "metadata": {
        "colab": {
          "base_uri": "https://localhost:8080/",
          "height": 573
        },
        "id": "_UtYLI1vkbEI",
        "outputId": "a879b5ad-69c7-48b8-d7ee-4fdd02e1407c"
      },
      "source": [
        "get_graf(f_hist, g_hist)"
      ],
      "execution_count": null,
      "outputs": [
        {
          "output_type": "display_data",
          "data": {
            "image/png": "[encoded data removed]",
            "text/plain": [
              "<Figure size 432x288 with 1 Axes>"
            ]
          },
          "metadata": {
            "tags": [],
            "needs_background": "light"
          }
        },
        {
          "output_type": "display_data",
          "data": {
            "image/png": "[encoded data removed]",
            "text/plain": [
              "<Figure size 432x288 with 1 Axes>"
            ]
          },
          "metadata": {
            "tags": [],
            "needs_background": "light"
          }
        }
      ]
    },
    {
      "cell_type": "markdown",
      "metadata": {
        "id": "SGR7CzSckbEJ"
      },
      "source": [
        "### barzilai Borwein"
      ]
    },
    {
      "cell_type": "code",
      "metadata": {
        "colab": {
          "base_uri": "https://localhost:8080/"
        },
        "id": "q9RGHVULkbEJ",
        "outputId": "71ceb6ad-4039-41c2-89ca-49bb7971d99f"
      },
      "source": [
        "params = {'x_0'      : x,\n",
        "          'alpha'    : 0.9,\n",
        "          'f'        : f, \n",
        "          'f_grad'   : f_grad,\n",
        "          'max_iter' : 500, \n",
        "          'tau_x'    : 1e-8,\n",
        "          'tau_f'    : 1e-8,\n",
        "          'tau_grad' : 1e-8,\n",
        "          'f_params' : {'Q'    : Q,\n",
        "                        'b'    : b,\n",
        "                       }\n",
        "          }\n",
        "\n",
        "f_hist, g_hist, x_k_next = barzilai_borwein(params, show_logs = True)"
      ],
      "execution_count": null,
      "outputs": [
        {
          "output_type": "stream",
          "text": [
            "Iteraciones:  75  , valor:  [-0.70963645  0.73341643 -0.40090525 ...  0.31043705 -0.90268655\n",
            "  0.03907375]\n"
          ],
          "name": "stdout"
        }
      ]
    },
    {
      "cell_type": "code",
      "metadata": {
        "colab": {
          "base_uri": "https://localhost:8080/",
          "height": 573
        },
        "id": "vb6WfoLLkbEJ",
        "outputId": "26db70eb-6e67-4bcc-f21b-11c5ce214d40"
      },
      "source": [
        "get_graf(f_hist, g_hist)"
      ],
      "execution_count": null,
      "outputs": [
        {
          "output_type": "display_data",
          "data": {
            "image/png": "[encoded data removed]",
            "text/plain": [
              "<Figure size 432x288 with 1 Axes>"
            ]
          },
          "metadata": {
            "tags": [],
            "needs_background": "light"
          }
        },
        {
          "output_type": "display_data",
          "data": {
            "image/png": "[encoded data removed]",
            "text/plain": [
              "<Figure size 432x288 with 1 Axes>"
            ]
          },
          "metadata": {
            "tags": [],
            "needs_background": "light"
          }
        }
      ]
    },
    {
      "cell_type": "markdown",
      "metadata": {
        "id": "_Cia08xlkbEJ"
      },
      "source": [
        "### Steepest Descent"
      ]
    },
    {
      "cell_type": "code",
      "metadata": {
        "id": "VkEihurwkbEK"
      },
      "source": [
        "params = {'x_0'      : x,\n",
        "          'alpha'    : 0.5,\n",
        "          'f'        : f, \n",
        "          'f_grad'   : f_grad,\n",
        "          'max_iter' : 100, \n",
        "          'tau_x'    : 1e-8,\n",
        "          'tau_f'    : 1e-8,\n",
        "          'tau_grad' : 1e-8,\n",
        "          'f_params' : {'Q' : Q,\n",
        "                        'b' : b,\n",
        "                       }\n",
        "          }\n",
        "\n",
        "f_hist, g_hist, x_k_next = steepest_descent(params, show_logs = True)"
      ],
      "execution_count": null,
      "outputs": []
    },
    {
      "cell_type": "code",
      "metadata": {
        "colab": {
          "base_uri": "https://localhost:8080/",
          "height": 573
        },
        "id": "vZw4OsMhkbEK",
        "outputId": "7333d7c3-4525-41a0-fe01-c97f8da5f00a"
      },
      "source": [
        "get_graf(f_hist, g_hist)"
      ],
      "execution_count": null,
      "outputs": [
        {
          "output_type": "display_data",
          "data": {
            "image/png": "[encoded data removed]",
            "text/plain": [
              "<Figure size 432x288 with 1 Axes>"
            ]
          },
          "metadata": {
            "tags": [],
            "needs_background": "light"
          }
        },
        {
          "output_type": "display_data",
          "data": {
            "image/png": "[encoded data removed]",
            "text/plain": [
              "<Figure size 432x288 with 1 Axes>"
            ]
          },
          "metadata": {
            "tags": [],
            "needs_background": "light"
          }
        }
      ]
    },
    {
      "cell_type": "markdown",
      "metadata": {
        "id": "US7jmvQus6WI"
      },
      "source": [
        "## ncond = 6"
      ]
    },
    {
      "cell_type": "code",
      "metadata": {
        "id": "bx6_RNXIkjVA"
      },
      "source": [
        "ncond = 6"
      ],
      "execution_count": null,
      "outputs": []
    },
    {
      "cell_type": "markdown",
      "metadata": {
        "id": "qKQ9RssJkjmy"
      },
      "source": [
        "### Gradiente Conjugado"
      ]
    },
    {
      "cell_type": "code",
      "metadata": {
        "colab": {
          "base_uri": "https://localhost:8080/"
        },
        "id": "IIiKoiRskjmz",
        "outputId": "40778b68-3aea-4ef6-8288-943a82e65bb3"
      },
      "source": [
        "Q, b  = generate_Q_b(n, m, ncond)\n",
        "\n",
        "params = {'x_0'      : x,\n",
        "          'f'        : f, \n",
        "          'f_grad'   : f_grad,\n",
        "          'max_iter' : 500, \n",
        "          'tau_x'    : 1e-8,\n",
        "          'tau_f'    : 1e-8,\n",
        "          'tau_grad' : 1e-8,\n",
        "          'f_params' : {'Q'    : Q,\n",
        "                        'b'    : b,\n",
        "                       }\n",
        "          }\n",
        "\n",
        "\n",
        "f_hist, g_hist, x_k_next = conjugate_gradient(params, show_logs = True)"
      ],
      "execution_count": null,
      "outputs": [
        {
          "output_type": "stream",
          "text": [
            "Iteraciones:  171  , valor:  [-0.54022549  0.4660268  -0.4643517  ... -0.74238927 -0.41631391\n",
            "  0.12197597]\n"
          ],
          "name": "stdout"
        }
      ]
    },
    {
      "cell_type": "code",
      "metadata": {
        "colab": {
          "base_uri": "https://localhost:8080/",
          "height": 573
        },
        "id": "GWc8PfDtkjm2",
        "outputId": "0ad10037-4868-43b2-8b45-894820cf09bf"
      },
      "source": [
        "get_graf(f_hist, g_hist)"
      ],
      "execution_count": null,
      "outputs": [
        {
          "output_type": "display_data",
          "data": {
            "image/png": "[encoded data removed]",
            "text/plain": [
              "<Figure size 432x288 with 1 Axes>"
            ]
          },
          "metadata": {
            "tags": [],
            "needs_background": "light"
          }
        },
        {
          "output_type": "display_data",
          "data": {
            "image/png": "[encoded data removed]",
            "text/plain": [
              "<Figure size 432x288 with 1 Axes>"
            ]
          },
          "metadata": {
            "tags": [],
            "needs_background": "light"
          }
        }
      ]
    },
    {
      "cell_type": "markdown",
      "metadata": {
        "id": "paHTYVwFkjm3"
      },
      "source": [
        "### barzilai Borwein"
      ]
    },
    {
      "cell_type": "code",
      "metadata": {
        "colab": {
          "base_uri": "https://localhost:8080/",
          "height": 129
        },
        "id": "txq8wHm8kjm4",
        "outputId": "6718fab5-2907-4a20-9042-0cabd68f0a7a"
      },
      "source": [
        "params = {'x_0'      : x,\n",
        "          'alpha'    : 0.9,\n",
        "          'f'        : f, \n",
        "          'f_grad'   : f_grad,\n",
        "          'max_iter' : 500, \n",
        "          'tau_x'    : 1e-8,\n",
        "          'tau_f'    : 1e-8,\n",
        "          'tau_grad' : 1e-8,\n",
        "          'f_params' : {'Q'    : Q,\n",
        "                        'b'    : b,\n",
        "                       }\n",
        "          }\n",
        "\n",
        "f_hist, g_hist, x_k_next = barzilai_borwein(params show_logs = True)"
      ],
      "execution_count": null,
      "outputs": [
        {
          "output_type": "error",
          "ename": "SyntaxError",
          "evalue": "ignored",
          "traceback": [
            "\u001b[0;36m  File \u001b[0;32m\"<ipython-input-24-6d81de8dc796>\"\u001b[0;36m, line \u001b[0;32m14\u001b[0m\n\u001b[0;31m    f_hist, g_hist, x_k_next = barzilai_borwein(params show_logs = True)\u001b[0m\n\u001b[0m                                                               ^\u001b[0m\n\u001b[0;31mSyntaxError\u001b[0m\u001b[0;31m:\u001b[0m invalid syntax\n"
          ]
        }
      ]
    },
    {
      "cell_type": "code",
      "metadata": {
        "id": "3enwLv7wkjm4"
      },
      "source": [
        "get_graf(f_hist, g_hist)"
      ],
      "execution_count": null,
      "outputs": []
    },
    {
      "cell_type": "markdown",
      "metadata": {
        "id": "0KB-X4BJkjm5"
      },
      "source": [
        "### Steepest Descent"
      ]
    },
    {
      "cell_type": "code",
      "metadata": {
        "id": "XKPTdFRokjm6"
      },
      "source": [
        "params = {'x_0'      : x,\n",
        "          'alpha'    : 0.5,\n",
        "          'f'        : f, \n",
        "          'f_grad'   : f_grad,\n",
        "          'max_iter' : 100, \n",
        "          'tau_x'    : 1e-8,\n",
        "          'tau_f'    : 1e-8,\n",
        "          'tau_grad' : 1e-8,\n",
        "          'f_params' : {'Q' : Q,\n",
        "                        'b' : b,\n",
        "                       }\n",
        "          }\n",
        "\n",
        "f_hist, g_hist, x_k_next = steepest_descent(params, show_logs = True)"
      ],
      "execution_count": null,
      "outputs": []
    },
    {
      "cell_type": "code",
      "metadata": {
        "id": "qi_zUIW-kjm6"
      },
      "source": [
        "get_graf(f_hist, g_hist)"
      ],
      "execution_count": null,
      "outputs": []
    },
    {
      "cell_type": "markdown",
      "metadata": {
        "id": "r4OCbkwPs6Z-"
      },
      "source": [
        "## Estadísticas"
      ]
    },
    {
      "cell_type": "code",
      "metadata": {
        "id": "kK4dgUGHl8z5"
      },
      "source": [
        "ncond         = {2,4,6}\n",
        "iters         = 30"
      ],
      "execution_count": null,
      "outputs": []
    },
    {
      "cell_type": "code",
      "metadata": {
        "colab": {
          "base_uri": "https://localhost:8080/"
        },
        "id": "yUuQKSNskpGg",
        "outputId": "0658afbd-f501-40e8-9145-81c981953a36"
      },
      "source": [
        "for ncond_ in ncond :\n",
        "  time_gc       = []\n",
        "  iterations_gc = []\n",
        "\n",
        "  time_bb       = []\n",
        "  iterations_bb = []\n",
        "\n",
        "  time_sd       = []\n",
        "  iterations_sd = []\n",
        "  for i in range(iters) :\n",
        "    print('Corrida :', i+1)\n",
        "    Q, b  = generate_Q_b(n, m, ncond_)\n",
        "    x     = np.random.uniform(-1, 1, size = n)\n",
        "\n",
        "    params = {'x_0'      : x,\n",
        "              'f'        : f, \n",
        "              'alpha'    :0.9,\n",
        "              'f_grad'   : f_grad,\n",
        "              'max_iter' : 500, \n",
        "              'tau_x'    : 1e-8,\n",
        "              'tau_f'    : 1e-8,\n",
        "              'tau_grad' : 1e-8,\n",
        "              'f_params' : {'Q' : Q,\n",
        "                            'b' : b,\n",
        "                           }\n",
        "             }\n",
        "    # Gradiente Conjugado\n",
        "    star                     = time.time()\n",
        "    f_hist, g_hist, x_k_next = conjugate_gradient(params)\n",
        "    # print('Gradiente Conjugado x* :', x)\n",
        "    ex_time                  = time.time() - star  \n",
        "\n",
        "    time_gc.append(ex_time)\n",
        "    iterations_gc.append(f_hist.shape[0])\n",
        "\n",
        "    # Barzilai Borwein\n",
        "    star                     = time.time()\n",
        "    f_hist, g_hist, x_k_next = barzilai_borwein(params)\n",
        "    # print('Barzilai Borwein x* :', x)\n",
        "    ex_time                  = time.time() - star  \n",
        "\n",
        "    time_bb.append(ex_time)\n",
        "    iterations_bb.append(f_hist.shape[0])\n",
        "\n",
        "    # Descenso Gradiente con Paso Exacto\n",
        "    star                     = time.time()\n",
        "    f_hist, g_hist, x_k_next = steepest_descent(params)\n",
        "    ex_time                  = time.time() - star  \n",
        "    # print('Paso Exacto x* :', x)\n",
        "    time_sd.append(ex_time)\n",
        "    iterations_sd.append(f_hist.shape[0])\n",
        "  print('ncond : ', ncond_)\n",
        "  print('-' * 30)\n",
        "  print('Gradiente Conjugado :')\n",
        "  print('Tiempo promedio: ', np.mean(time_gc), ' Promedio de iteraciones : ', np.mean(iterations_gc))\n",
        "  print('Barzilai Borwein    :')\n",
        "  print('Tiempo promedio: ', np.mean(time_bb), ' Promedio de iteraciones : ', np.mean(iterations_bb))\n",
        "  print('Paso Exacto         :')\n",
        "  print('Tiempo promedio: ', np.mean(time_sd), ' Promedio de iteraciones : ', np.mean(iterations_sd))"
      ],
      "execution_count": null,
      "outputs": [
        {
          "output_type": "stream",
          "text": [
            "Corrida : 1\n",
            "Corrida : 2\n",
            "Corrida : 3\n",
            "Corrida : 4\n",
            "Corrida : 5\n",
            "Corrida : 6\n",
            "Corrida : 7\n",
            "Corrida : 8\n",
            "Corrida : 9\n",
            "Corrida : 10\n",
            "Corrida : 11\n",
            "Corrida : 12\n",
            "Corrida : 13\n",
            "Corrida : 14\n",
            "Corrida : 15\n",
            "Corrida : 16\n",
            "Corrida : 17\n",
            "Corrida : 18\n",
            "Corrida : 19\n",
            "Corrida : 20\n",
            "Corrida : 21\n",
            "Corrida : 22\n",
            "Corrida : 23\n",
            "Corrida : 24\n",
            "Corrida : 25\n",
            "Corrida : 26\n",
            "Corrida : 27\n",
            "Corrida : 28\n",
            "Corrida : 29\n",
            "Corrida : 30\n",
            "ncond :  2\n",
            "------------------------------\n",
            "Gradiente Conjugado :\n",
            "Tiempo promedio:  5.055690789222718  Promedio de iteraciones :  27.0\n",
            "Barzilai Borwein    :\n",
            "Tiempo promedio:  3.7065589825312295  Promedio de iteraciones :  29.066666666666666\n",
            "Paso Exacto         :\n",
            "Tiempo promedio:  8.546639323234558  Promedio de iteraciones :  28.0\n",
            "Corrida : 1\n",
            "Corrida : 2\n",
            "Corrida : 3\n",
            "Corrida : 4\n",
            "Corrida : 5\n",
            "Corrida : 6\n",
            "Corrida : 7\n",
            "Corrida : 8\n",
            "Corrida : 9\n",
            "Corrida : 10\n",
            "Corrida : 11\n",
            "Corrida : 12\n",
            "Corrida : 13\n",
            "Corrida : 14\n",
            "Corrida : 15\n",
            "Corrida : 16\n",
            "Corrida : 17\n",
            "Corrida : 18\n",
            "Corrida : 19\n",
            "Corrida : 20\n",
            "Corrida : 21\n",
            "Corrida : 22\n",
            "Corrida : 23\n",
            "Corrida : 24\n",
            "Corrida : 25\n",
            "Corrida : 26\n",
            "Corrida : 27\n",
            "Corrida : 28\n",
            "Corrida : 29\n",
            "Corrida : 30\n",
            "ncond :  4\n",
            "------------------------------\n",
            "Gradiente Conjugado :\n",
            "Tiempo promedio:  12.866837199529012  Promedio de iteraciones :  68.56666666666666\n",
            "Barzilai Borwein    :\n",
            "Tiempo promedio:  10.075307043393453  Promedio de iteraciones :  79.93333333333334\n",
            "Paso Exacto         :\n",
            "Tiempo promedio:  44.36127626101176  Promedio de iteraciones :  142.43333333333334\n",
            "Corrida : 1\n",
            "Corrida : 2\n",
            "Corrida : 3\n",
            "Corrida : 4\n",
            "Corrida : 5\n",
            "Corrida : 6\n",
            "Corrida : 7\n",
            "Corrida : 8\n",
            "Corrida : 9\n",
            "Corrida : 10\n",
            "Corrida : 11\n",
            "Corrida : 12\n",
            "Corrida : 13\n",
            "Corrida : 14\n",
            "Corrida : 15\n",
            "Corrida : 16\n",
            "Corrida : 17\n",
            "Corrida : 18\n",
            "Corrida : 19\n",
            "Corrida : 20\n",
            "Corrida : 21\n",
            "Corrida : 22\n",
            "Corrida : 23\n",
            "Corrida : 24\n",
            "Corrida : 25\n",
            "Corrida : 26\n",
            "Corrida : 27\n",
            "Corrida : 28\n",
            "Corrida : 29\n",
            "Corrida : 30\n",
            "ncond :  6\n",
            "------------------------------\n",
            "Gradiente Conjugado :\n",
            "Tiempo promedio:  32.03691520690918  Promedio de iteraciones :  173.16666666666666\n",
            "Barzilai Borwein    :\n",
            "Tiempo promedio:  23.95040839513143  Promedio de iteraciones :  193.16666666666666\n",
            "Paso Exacto         :\n",
            "Tiempo promedio:  154.71486735343933  Promedio de iteraciones :  503.0\n"
          ],
          "name": "stdout"
        }
      ]
    },
    {
      "cell_type": "code",
      "metadata": {
        "id": "5NoDORElo9Uu"
      },
      "source": [
        ""
      ],
      "execution_count": null,
      "outputs": []
    }
  ]
}